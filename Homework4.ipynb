{
 "cells": [
  {
   "cell_type": "code",
   "execution_count": 1,
   "metadata": {},
   "outputs": [],
   "source": [
    "#문제 1 \n",
    "s='''pig ham\n",
    "cat dog\n",
    "ham bird\n",
    "dog pig'''\n",
    "with open('s.txt','w')as f:\n",
    "    f.write(s)\n",
    "#with open('s.txt','r')as f:\n",
    " #   a=f.read()\n",
    "  #  print(a)\n",
    "\n"
   ]
  },
  {
   "cell_type": "code",
   "execution_count": 2,
   "metadata": {},
   "outputs": [
    {
     "name": "stdout",
     "output_type": "stream",
     "text": [
      "pig ham\n",
      "cat dog\n",
      "ham bird\n",
      "dog pig\n",
      "\n",
      "['pig ham', 'cat dog', 'ham bird', 'dog pig', '']\n",
      "cat dog\n",
      "dog pig\n",
      "ham bird\n",
      "pig ham\n"
     ]
    }
   ],
   "source": [
    "#문제1-1\n",
    "with open('s.txt','r')as f:\n",
    "    s=f.readlines()\n",
    "    a=\"\"\n",
    "    for i in s:\n",
    "        a+=i.strip()+'\\n'\n",
    "    print(a)\n",
    "    a=a.split('\\n')\n",
    "    print(a)\n",
    "    a.sort()\n",
    "    a=a[1:]\n",
    "    s='\\n'.join(a)\n",
    "with open('s1.txt','w')as f:\n",
    "    f.write(s)\n",
    "with open('s1.txt','r')as f:\n",
    "    print(f.read())\n",
    "    "
   ]
  },
  {
   "cell_type": "markdown",
   "metadata": {},
   "source": [
    "텍스트를 readlines()로 읽어 리스트로 저장한 뒤, 그 값중 가장 뒤에 값인 dog pig만 줄바꿈문자를 갖고있지 않아  \n",
    "먼저 모든 리스트의 줄바꿈문자를 없애주고 새로 줄바꿈문자를 넣어준다. 그문자열을 줄바꿈문자를 기준으로 나눠 리스트를 만들고  \n",
    "sort를 이용해 정렬을 한뒤 첫번째 리스트가 공백이므로 [1:]로 그 다음의 값부터 리스트를 다시 만들고 그 값을 다시 문자열로 만들어줌."
   ]
  },
  {
   "cell_type": "code",
   "execution_count": 3,
   "metadata": {},
   "outputs": [
    {
     "name": "stdout",
     "output_type": "stream",
     "text": [
      "ham bird\n",
      "cat dog\n",
      "pig ham\n",
      "dog pig\n"
     ]
    }
   ],
   "source": [
    "#문제1-2\n",
    "with open('s.txt','r')as f:\n",
    "    s=f.readlines()\n",
    "    def cmp_by_each_element(a):\n",
    "        return a[4]\n",
    "    s.sort(key=cmp_by_each_element)\n",
    "    s=''.join(s)\n",
    "with open('s2.txt','w')as f:\n",
    "    f.write(s)\n",
    "with open('s2.txt','r')as f:\n",
    "    print(f.read())\n",
    "    "
   ]
  },
  {
   "cell_type": "markdown",
   "metadata": {},
   "source": [
    "먼저 s.txt를 읽기모드로 불러들여서  readlines()를 이용해 리스트로 저장한다.  \n",
    "그 리스트를 정렬하는데 정렬하기 위한 key값은 list값의 5번째인 a[4]에서의 문자를 비교해 정렬한다.  \n",
    "그 리스트를 문자열로 만들어주고 그 문자열을 s2.txt에 넣어준다."
   ]
  },
  {
   "cell_type": "code",
   "execution_count": 4,
   "metadata": {},
   "outputs": [
    {
     "name": "stdout",
     "output_type": "stream",
     "text": [
      "pig ham cat\n",
      "dog ham bird\n",
      "dog pig \n"
     ]
    }
   ],
   "source": [
    "#문제1-3\n",
    "with open('s.txt','r')as f:\n",
    "    s=f.readlines()\n",
    "    s=''.join(s)\n",
    "    s=s.split()\n",
    "    count=1\n",
    "    l=\"\"\n",
    "    for i in s:\n",
    "        if(count%3==0):\n",
    "            l+=i+'\\n'\n",
    "        else:\n",
    "            l+=i+' '\n",
    "        count+=1\n",
    "with open('s3.txt','w')as f:\n",
    "    f.write(l)\n",
    "with open('s3.txt','r')as f:\n",
    "    print(f.read())"
   ]
  },
  {
   "cell_type": "markdown",
   "metadata": {},
   "source": [
    "s.txt.를 readliens()를 이용해 리스트로 받는다. 그값을 join을 이용해 문자열로 바꿔주고 split을 이용해 공백문자 단위로 쪼개준다.  \n",
    "그 리스트를 반복문을 이용해 3개의 단어가 오면 줄바꿈이 오게 문자열로 만들어준다.  \n",
    "그값을 s3.txt에 넣어준다"
   ]
  },
  {
   "cell_type": "code",
   "execution_count": 5,
   "metadata": {
    "scrolled": true
   },
   "outputs": [
    {
     "name": "stdout",
     "output_type": "stream",
     "text": [
      " Welcome to Our Service\n",
      "    1. Sign Up\n",
      "    2. Sign In\n",
      "    3. Quit\n",
      "    \n",
      "1\n",
      "ID:dksxo456\n",
      "Sorry, the entered ID is already used.\n",
      "\n",
      "dksxo123\n",
      "Sorry, the entered ID is already used.\n",
      "\n",
      "dksxo789\n",
      "PassWord:1234\n",
      "Name:태영\n",
      "School:한기대\n",
      "dksxo789 : 7110eda4d09e062aa5e4a390b0a572ac0d2c0220 , 태영 , 한기대\n",
      "\n",
      " Welcome to Our Service\n",
      "    1. Sign Up\n",
      "    2. Sign In\n",
      "    3. Quit\n",
      "    \n",
      "2\n",
      "ID:dksxo777\n",
      "Sorry, you are not a registered member.\n",
      "ID:dksxo456\n",
      "PassWord:12\n",
      "Sorry, the entered password is not correct.\n",
      "PassWord:123\n",
      "Sorry, the entered password is not correct.\n",
      "PassWord:12345\n",
      "Hello 김태영!\n",
      " Welcome to Our Service\n",
      "    1. Sign Up\n",
      "    2. Sign In\n",
      "    3. Quit\n",
      "    \n",
      "3\n",
      "Hi : 7110eda4d09e062aa5e4a390b0a572ac0d2c0220 , 안태영 , 한기대\n",
      "dksxo456 : 8cb2237d0679ca88db6464eac60da96345513964 , 김태영 , 한기대\n",
      "dksxo123 : 7c4a8d09ca3762af61e59520943dc26494f8941b , 이태영 , 한기대\n",
      "Young : 2c12471b9239ff8697b41621cc0be83e4d55c0f8 , 제갈태영 , 한기대\n",
      "dksxo : 60b19727ba8e6a0d982bd64a57764c33ac3876c6 , 안태영 , 한기대\n",
      "dksxo789 : 7110eda4d09e062aa5e4a390b0a572ac0d2c0220 , 태영 , 한기대\n",
      "\n"
     ]
    }
   ],
   "source": [
    "#문제 2-1\n",
    "import hashlib\n",
    "def Sign_Up():\n",
    "    s=''' Welcome to Our Service\n",
    "    1. Sign Up\n",
    "    2. Sign In\n",
    "    3. Quit\n",
    "    '''\n",
    "    print(s)\n",
    "    a=int(input())\n",
    "    if(a==1):\n",
    "            print('ID:',end=\"\")\n",
    "            id=str(input())\n",
    "            try:\n",
    "                with open('access.txt','r')as f:\n",
    "                    t=f.readline()\n",
    "                    while(t):\n",
    "                        t=t.split()\n",
    "                        if(id==t[0]):\n",
    "                            print('Sorry, the entered ID is already used.\\n')\n",
    "                            id=str(input())\n",
    "                            f.seek(0)\n",
    "                        t=f.readline()\n",
    "            except FileNotFoundError as e:     #파일이 존재하지 않을시 다음으로 진행\n",
    "                pass\n",
    "            print('PassWord:',end=\"\")\n",
    "            pw=input()\n",
    "            password_encrypted = hashlib.sha1(bytes(pw,'utf-8'))   #패스워드를 sha모듈을 이용해 암호화해준다.\n",
    "            print('Name:',end='')\n",
    "            name=str(input())\n",
    "            print('School:',end='')\n",
    "            school=str(input())\n",
    "            infor=id+' : '+password_encrypted.hexdigest()+' , '+name+' , '+school+'\\n'\n",
    "            print(infor)\n",
    "            with open('access.txt','a')as f:\n",
    "                f.write(infor)\n",
    "            Sign_Up()    \n",
    "    if(a==2):\n",
    "        try:\n",
    "            with open('access.txt','r')as f:\n",
    "                user=''\n",
    "                place=0\n",
    "                t=f.readline()\n",
    "                ids=\"\"\n",
    "                Is=False\n",
    "                while(t):\n",
    "                    t=t.split()\n",
    "                    ids+=t[0]+' '\n",
    "                    t=f.readline()\n",
    "                ids=ids.split()    \n",
    "                while(True):\n",
    "                    print('ID:',end=\"\")\n",
    "                    id=str(input())\n",
    "                    for i in ids:\n",
    "                        if(id==i):\n",
    "                            Is=True\n",
    "                            user=i       \n",
    "                    if(Is==True): break\n",
    "                    else:\n",
    "                        print('Sorry, you are not a registered member.')\n",
    "                f.seek(0)\n",
    "                t=f.readline()\n",
    "                while(t):\n",
    "                    t=t.split()\n",
    "                    if(user==t[0]):\n",
    "                        break\n",
    "                    else:\n",
    "                        place=f.tell()\n",
    "                        t=f.readline()\n",
    "                while(True):\n",
    "                    print('PassWord:',end=\"\")\n",
    "                    pw=input()\n",
    "                    password_encrypted = hashlib.sha1(bytes(pw,'utf-8'))\n",
    "                    f.seek(place)\n",
    "                    t=f.readline()\n",
    "                    t=t.split()\n",
    "                    if(password_encrypted.hexdigest()!=t[2]):\n",
    "                        print('Sorry, the entered password is not correct.')\n",
    "                    else:\n",
    "                        print('Hello '+t[4]+'!')\n",
    "                        break\n",
    "                Sign_Up()        \n",
    "                        \n",
    "        except FileNotFoundError as e:\n",
    "            print(\"저장된 파일이 없습니다.\")\n",
    "    if(a==3):\n",
    "        return ;\n",
    "Sign_Up()\n",
    "with open('access.txt','r')as f:\n",
    "    print(f.read())"
   ]
  },
  {
   "cell_type": "markdown",
   "metadata": {},
   "source": [
    "2번 과제는 가입하는것과 로그인 하는 것과 종료하는 것을 구현하는 것이였다.  \n",
    "먼저 입력을 받고 그 값이 1이면 가입을 한다. 이때 기존에 존재하는 Id와 비교하기위해  access.txt를 먼저 불러오는데  \n",
    "아무런 가입이 안돼있을 경우 access.txt란 파일이 없다. 그렇기에 이때 읽기를 하려고 하면 오류가 발생한다.\n",
    "그것을 예외처리 try except를 이용해 없을경우에는 존재하는 ID가 없으므로 pass를 써서 진행한다.  \n",
    "access.txt에서 readline()을 이용해 한 라인씩 갖고오면서 split을 이용해 t[0]을 만들어 Id부분만을 따내서 그 값이랑 비교를 해서 존재한다면  \n",
    "존재한다는 출력을 남기고 다시 입력을 받는다. 이때 f.seek(0)을 통해 포인터위치를 다시 0으로 만들어 다시 readline()을 쓴다.  \n",
    "sha모듈을 이용해 Password를 암호화해준뒤 access.txt에 문자열을 이용해 넣어준다. 이때 파일을 'a'모드로 열어 추가로 저장되게 한다.\n",
    "\n",
    "2를 입력시 id를 입력받는데 그 값이 기존 access.txt.에 존재하는 ID라면 비밀번호로 넘어가고 존재하지 않으면 다시 입력받는다.\n",
    "이때 ids와 user란 변수를 만들어 ids에는 access.txt에 존재하는 ID를 리스트로 넣어두고 입력하는 ID값과 ids안에 값이 갖다면 그값을 user로 넘기고 넘어간다.\n",
    "user란 변수를 받으면 그 ID의 라인을 알아내서 place에 저장한다.  \n",
    "그다음 password를 입력받고 그 값을 암호화한뒤 seek(place)를 통해 입력한 id의 라인으로 이동해 그 ID의 비밀번호 값과 입력된 비밀번호 값을 비교한다. 틀리다면 계속 반복해서 비밀번호를 받고  맞을 경우에는 Hello [name]!란 출력을 한다 이미 라인을 알고있으므로 name은 구하기 쉽다.\n",
    "만약 access.txt가 만들어지지 않은 상태에서 Sign in을 하려하면 읽기모드에서 에러가 발생하므로 예외처리 함수를 이용해 없을 경우   \n",
    "'저장된 파일이없습니다' 라는 출력을 한다"
   ]
  },
  {
   "cell_type": "code",
   "execution_count": 6,
   "metadata": {},
   "outputs": [
    {
     "name": "stdout",
     "output_type": "stream",
     "text": [
      "['0.5', ' 7', ' 1']\n",
      "['0.5', ' 7', ' 1']\n",
      "0.5 7.0\n",
      "[0.5, 1.5, 2.5, 3.5, 4.5, 5.5, 6.5]\n"
     ]
    }
   ],
   "source": [
    "##### 문제 3\n",
    "def f1(stop):\n",
    "    list=[]\n",
    "    i=0\n",
    "    stop=''.join(stop)\n",
    "    stop=float(stop)\n",
    "    while(i<stop):\n",
    "        list.append(i)\n",
    "        i+=0.1\n",
    "        i=round(i,2)\n",
    "    print(list)\n",
    "def f2(start,stop,step=0.1):\n",
    "    s=float(start)\n",
    "    t=float(stop)\n",
    "    step=float(step)\n",
    "    list=[]\n",
    "    print(s,t)\n",
    "    while(s<t):\n",
    "        list.append(s)\n",
    "        s+=step\n",
    "        s=round(s,2)\n",
    "    print(list)    \n",
    "def frange(*a):\n",
    "    t=str(a)[1:-1].split(',')\n",
    "    print(t)\n",
    "    if(t[-1]==''):\n",
    "        t.pop(-1)\n",
    "    print(t)\n",
    "    if(len(t)==1):\n",
    "        return f1(t)\n",
    "    else:\n",
    "        return f2(*t)\n",
    "frange(0.5,7,1)        "
   ]
  },
  {
   "cell_type": "markdown",
   "metadata": {},
   "source": [
    "먼저 frange를 튜플형태로 받는다. 그 값에서 숫자만으로 뽑아내기위해 [1:-1]로 만들고 split(',')을 해주면 값이 한개일땐 마지막 값이 ''이므로 그것을 빼준다. 그러면 값 t는 리스트형태로 된다.  그 리스트가 1개일시 f1함수를 실행하고 이때 받는 값이 리스트이므로 join과 float를 이용해 \n",
    "상수형태로 바꿔준다.  \n",
    "2개나 3개일시 f2함수를 실행해 start값에서 step만큼 더해가면서 stop보다 커지기 전까지 그값들을 list에 더한다.   \n",
    "주의사항은 여기있는 값들은 다 str이므로 다 float형태로 바꿔주어야한다."
   ]
  },
  {
   "cell_type": "code",
   "execution_count": 7,
   "metadata": {},
   "outputs": [
    {
     "name": "stdout",
     "output_type": "stream",
     "text": [
      "7682\n"
     ]
    }
   ],
   "source": [
    "#문제 4\n",
    "def sum(*args):\n",
    "    count=0\n",
    "    i=0\n",
    "    while(i<len(args)):\n",
    "        n=str(args[i:i+1])[1:-2]\n",
    "        count+=int(n)\n",
    "        i+=1\n",
    "    print(count)\n",
    "sum(1,2,3,7676)    "
   ]
  },
  {
   "cell_type": "markdown",
   "metadata": {},
   "source": [
    "가변함수를 이용해 sum함수를 만들었다. 가변함수는 튜플형태를 띄므로 튜플에서 상수값들만을 꺼내야 한다.   \n",
    "반복은 튜플에 갯수인 len(args)만큼 하고 튜플을 첫 값만 문자열로 꺼내 튜플형태인 (x,)형태에서 슬라이싱을 이용해 왼쪽 하나, 오른쪽 두개를 제거해준다.   \n",
    "그 값을 int형태로 바꾼뒤 그값들을 더해준다."
   ]
  },
  {
   "cell_type": "code",
   "execution_count": 8,
   "metadata": {
    "scrolled": true
   },
   "outputs": [
    {
     "name": "stdout",
     "output_type": "stream",
     "text": [
      "my name is young\n",
      "MNIY\n"
     ]
    }
   ],
   "source": [
    "#문제 5\n",
    "def myinitial(str):\n",
    "    print(''.join(list(map(lambda x:x[0].upper(),str.split()))))\n",
    "n=str(input())    \n",
    "myinitial(n)"
   ]
  },
  {
   "cell_type": "markdown",
   "metadata": {},
   "source": [
    "str이라는 문자열을 입력받아  map함수에 쓰는데  func은 각 문자열의 첫번째 글자를 대문자로 바꿔주는것이고   \n",
    "seq은 문자열을 단어로 나눠주는 것이다. seq이 list형태이므로 list로 묶어주고 그 리스트 형태를 다시 문자열로 바꾸기 위해 join을 써서 문자열로 바꿔준다."
   ]
  },
  {
   "cell_type": "code",
   "execution_count": 9,
   "metadata": {
    "scrolled": true
   },
   "outputs": [
    {
     "name": "stdout",
     "output_type": "stream",
     "text": [
      "11\n",
      "39916800\n"
     ]
    }
   ],
   "source": [
    "#문제6\n",
    "def myfact(n):\n",
    "    if(n<0):\n",
    "        print(\"정수를 입력해주십시오.\")\n",
    "    else:\n",
    "        if(n>=2):\n",
    "            return n*myfact(n-1)\n",
    "        else:\n",
    "            return 1\n",
    "        \n",
    "s=int(input()) \n",
    "print(myfact(s))"
   ]
  },
  {
   "cell_type": "markdown",
   "metadata": {},
   "source": [
    "양수를 입력시 값이 2이상일 경우 n * myfact(n-1) 을 통해 재귀함수로 결과값을 나오게 한다 ."
   ]
  },
  {
   "cell_type": "markdown",
   "metadata": {},
   "source": [
    " # 문제7   \n",
    " import string 과 from string import * 의 차이점을 설명하시오.\n",
    " \n",
    "import string은 모듈을 이용해서 만들지만 이름공간을 유지하므로 string.xxxx형태로  앞에 string을 항상 붙여주여야한다.\n",
    "하지만 from string import*  형태로 사용하면 해당 모듈에 존재하는 지정이름들을 현재이름공간으로 불러들여 string.xxxx형태로 쓰지 않고\n",
    "그냥   xxxx형태로만 쓸수 있기 때문에 더 편하다.\n"
   ]
  },
  {
   "cell_type": "code",
   "execution_count": 1,
   "metadata": {},
   "outputs": [
    {
     "name": "stdout",
     "output_type": "stream",
     "text": [
      "475\n",
      "{컴퓨터공학부:11, script:1, Schoolfun:1, Study:1, Fun:1, 로그:4, 아이디:2, 비밀번호:1, 유지:2, 브라우저:1, 닫:1, 계속:1, 유지될:1, 있:1, 로그인:2, 기능:1, 사용:1, 경우:1, 접속부터는:1, 필요:1, 없:1, 단:1, 게임방:1, 학교:1, 공공장소:1, 이용:1, 시:2, 개인정보:1, 유출될:1, 있으니:1, 꼭:1, 로그아웃:1, 해주세요:1, 회원가입:1, ID:1, PW:1, 찾기:1, IT:5, 교육:2, 글로벌:3, 메카:2, 한국기술교육대학교:6, Close:1, 소개:1, 구성원소개:1, 학사안내:1, 입학:1, 학부:1, 대학원:4, 학부광장:1, 자료실:2, 공학교육인증:1, 학부서비스:1, Registration:1, School:1, Computer:1, Science:1, Engineering:1, 융합소프트웨:3, 인력양성사업:3, CK:1, Creative:1, Korea:1, I:1, 교육역량강화사업:3, 온라:3, 컨텐츠:3, Online:1, Contents:1, Education:1, Capability:1, Empowerment:1, 홈페이지:2, 오신:1, 것을환영합니다:1, 수준:1, IT전문인력:1, 양성:1, IT융합분야:1, 대:1, 국제적:1, 경쟁력:1, 고취:1, 바로가기:2, 소개합니다:1, 공지사항:1, 안전교:2, 2학기:1, 실험실:1, 이수현황:1, 안내:2, 201:35, 1:61, 신입생:1, 모집:2, 입시설명회:1, 개최:1, 0:15, 졸업작품:2, 재심:1, 중간발표:1, 역학:1, 2018학:1, 하반기:1, 자체필기:1, 실기평:1, 2:35, 특성화:1, IT융합:1, 경진대회:1, 신청현황:1, 4:12, 자유게시판:1, ●:3, 10대:1, 학회장:1, 부학회장:1, 후보:1, 등록:1, ※모의토익비:1, 지원:2, 공지※:1, 총학생회장:1, 재투표:1, 관련:1, 사항:1, 수정:1, 2019학:1, 제10대:1, 학생회장:1, 부:1, 5:6, ※:2, DICE:1, Lab:1, 대학원생:1, 취업게시판:1, 비트컴퓨터:1, 교육사업부:1, 교육운영관리:1, 담당:1, 플링크:1, 증감현실:1, 시스템:1, 콘텐츠:1, 개발:1, 청주:1, ITCEN:1, GROUP:1, 신입:2, 공채:1, 7기:1, 채용:2, 공고:1, ㈜비즈테크파트너스:1, LG:1, CNS자회:1, 개발직:1, 국가보안기술연구소:1, 정규직:1, Platum:1, 역삼동:1, 소셜벤처:1, 청년창업:1, 허브:1, 생긴다:1, “모금:1, 혁신:1, 이야기하다:1, 도너스:1, 콜라보레이트:1, 루미르:1, 컴퍼니케이파트너스:1, 등으:1, 35억:1, 투:1, 유치:1, 디지털이코노미:1, 포럼:1, 대기업:1, 스타트업:1, 생태계:1, 접:1, 3:4, 디지털이코노미포럼:1, 핀테크:1, 0시대:1, 안:1, 온다:1, 전자신문:1, KT:2, 통신장애:1, 유무선:1, 고객:1, 1개월치:1, 요금감면:1, 20:1, 5G:2, B2B요금:1, 첫:1, 인:1, 면제···혁신:1, 서비스:1, 출시:1, 망:1, 관리:1, 리스크:1, 급부상···5G·재난망:1, 안전대:1, 레이저폰:1, 출고:1, 99만원:1, 확정:1, 화웨:1, 시대:1, 이끌다:1, 중동:1, 유럽:1, 亞太:1, TechCrunch:1, Bitcoin:1, sinks:1, below:1, crypto:1, marke:1, LinkedIn:1, violated:1, data:1, protection:1, using:1, 18M:1, Logitech:1, reportedly:1, offering:1, billion:1, Upflow:1, turbocharges:1, invoices:1, 2018:2, 10:1, Cards:1, Against:1, Humanity:1, selling:1, diamonds:1, 11:1, 16:2, Back:1, Top:1, Leading:1, Together:1, Brighter:1, Future:1, Quick:1, Navigation:1, WEBMAIL:1, 평생교육원:1, 교직원:1, 업무:1, 포트폴리:1, Campus:1, Location:1, Contact:1, CSE:1, 충청남도:2, 천안시:2, 동남:2, 병천면:2, 충절:2, 1600한국기술교육대학교:1, 학과사무실:1, TEL:1, 04:2, 56:2, 146:2, FAX:1, Facebook:1, Twitter:1, Google:1, Plus:1, Linkedin:1, 가전리:1, Copyright:1, ©:1, All:1, rights:1, reserved:1, }\n"
     ]
    }
   ],
   "source": [
    "#문제8\n",
    "import requests\n",
    "import string\n",
    "import codecs\n",
    "import pickle\n",
    "req = requests.get('http://cse.koreatech.ac.kr')\n",
    "\n",
    "source = req.text\n",
    "with codecs.open('cse.koreatech.ac.kr.html','w',\"utf-8\")as f:\n",
    "    f.write(source)\n",
    "while source.find('<')!= -1:\n",
    "    if(source[source.find('<')+1:source.find('>')]==\"style\"or source[source.find('<')+1:source.find('>')]==\"script\"):\n",
    "        source1=source[:source.find('<')]\n",
    "        soruce=source[source.find('<')+1:]\n",
    "        source=source1+source[source.find('<', source.find('>'))+1:]\n",
    "    else :\n",
    "        source=source[:source.find('<')]+source[source.find('>', source.find('<'))+1:]\n",
    "\n",
    "print(len(source.split()))\n",
    "words=source.split()\n",
    "s=' '.join(words)\n",
    "words=list(s)\n",
    "for i in range(len(words)):\n",
    "    for k in range(len(string.punctuation)):\n",
    "        if(words[i]==string.punctuation[k]):\n",
    "            words[i]=' '\n",
    "words=''.join(words)\n",
    "words=words.split()\n",
    "with codecs.open('Stopwords1.txt','r',\"utf-8\")as f:\n",
    "    s=f.readlines()\n",
    "    s=''.join(s)\n",
    "    s=s.split()\n",
    "    for i in words:\n",
    "        for j in s:\n",
    "            if(i==j):\n",
    "                words[words.index(i)]=''\n",
    "                break\n",
    "words=' '.join(words)\n",
    "words=words.split()\n",
    "with codecs.open('Stopwords2.txt','r',\"utf-8\")as f:\n",
    "    s=f.readlines()\n",
    "    s=''.join(s)\n",
    "    s=s.split()\n",
    "    for i in words:\n",
    "        for j in s:\n",
    "            if(i.find(j)!=-1):\n",
    "                if(i.endswith(j)==True):\n",
    "                    words[words.index(i)]=i[:i.find(j)]      \n",
    "                    break\n",
    "                elif(i==j):\n",
    "                    words[words.index(i)]=''\n",
    "                    break\n",
    "words=' '.join(words)\n",
    "words=words.split()\n",
    "\n",
    "count=dict()\n",
    "for d in words:\n",
    "    if d not in count:\n",
    "        count[d]=1\n",
    "    else:\n",
    "        count[d]+=1\n",
    "key=list(count.keys())\n",
    "value=list(count.values())\n",
    "\n",
    "    \n",
    "\n",
    "\n",
    "with open('cse.koreatech.ac.kr.words_frequency.pickle','wb')as f:\n",
    "    pickle.dump(count,f)\n",
    "print('{',end='')\n",
    "for i in range(len(key)):\n",
    "    print(\"%s:%d\"%(key[i],value[i]),end=', ' ),\n",
    "print('}')"
   ]
  },
  {
   "cell_type": "code",
   "execution_count": 11,
   "metadata": {},
   "outputs": [
    {
     "name": "stdout",
     "output_type": "stream",
     "text": [
      "801\n",
      "{한국기술교육대학교:4, 홈페이지:3, document:7, createElement:6, header:1, nav:1, section:1, article:1, footer:1, script:2, 주요메뉴:1, 바로가기:3, 본문:1, 하단메뉴:1, function:3, fnSubmit:1, var:1, logoutFrm:1, submit:1, 현재:1, 스크립트:3, 꺼져:1, 있는:1, 상태입니다:1, 사용:2, 않으시면:1, 이용:1, 불편사항:1, 있:1, 권장합니다:1, KOREATECH:21, 탑:2, 유틸메뉴:2, 오류신고:1, HOME:1, LOGIN:3, WEBMAIL:2, SITEMAP:1, ENGLISH:2, CHINESE:2, 통합검색:1, 입력폼:1, facebookdaumnaveryoutube:2, 대학소개:4, 대한민국:2, 기술리더:1, 세계:1, 품다:1, KOREATECH소개:2, 총장실:2, 대학현황:2, VISION2:2, KOREATECH20:2, 대학조직:2, 국제교류:2, 코리아텍발전기금:2, KOREATECH부패방지:2, 입학안내:6, 학생:6, 행복:1, 대학:17, 학생중심:1, 교육중심:2, 대학원:10, 기업:1, 신뢰:1, 1위:4, 일학습병행대학:4, 대학생활:4, 미래:1, 선도:1, 행복대학:1, 학사안내:2, 해외연:4, 장학제도:4, 캠퍼스생활:2, 병사안내:2, 커뮤니티:4, 도전:1, 열정:1, 창:2, 재학생:5, 만족도:1, 취업률:1, 공지사항:2, 참여게시판:2, 자료실:2, 휴먼아카데미:2, 명사특강:2, 취업역량강화:2, 동영상:2, 교수·학습역량강화:2, 특강:3, 학부모님:2, 의견란:2, 고객:2, 소리:2, 제:2, 대학홍보:4, 대학민국:1, NO:1, 교육중심대학:2, NEWS:3, 홍보영상물:4, 홍보대:2, 언론보도모음집:2, 대학소식지:2, 사이버투:2, 홍보브로셔:2, 코리아텍학부모초청의날:2, 정보공개:6, 투명:1, 학교운:1, 공공데이터개방:2, 행정공시:2, 지방대특성화:2, 사업:2, 사업실명:2, 이전:3, banner:4, btnNext:1, prev:1, btnPrev:1, btnStop:1, stop:1, initialize:1, 팝업닫기:1, 팝업열기:1, 코리아텍:4, 언론보도:1, 예비대학생:4, 교직원:5, 일반:4, 자세히보기:1, 온라인교육지원:5, 생활관:7, 교내인증:4, S:5, W:4, 무선랜신청:4, 원격지원:4, 오늘:4, 식단:4, 시설보수신청:4, 학사종합서비스:5, 인터넷증명발급:6, 시설물신청:2, 동아리안내:2, IPP센터:6, 학부소개:4, 언론기:4, 국제교육센터:3, 전화번호찾기:4, 캠퍼스투:4, 찾아오시는길:4, 캠퍼스사진:2, 아우누리:2, 전자출결:2, RFID:2, 학교차량신청:2, 교육장비검색:2, 코리아텍소개:2, VISION:2, 대학원소개:2, 고용노동연수원:3, 능력개발교육원:3, 직업능력심사평가원:3, 온라인평생교육원:4, BUS:2, 닫기:3, Foreigner:1, 만족:4, 사실:4, 진리:4, 탐구:4, 현장중심:4, 실험실습:4, 강조:4, 재생:2, 정지:3, 2:3, 데스크탑:1, 태블릿:1, 비주얼:2, 모바:1, 일반공지:1, 대박쓰:1, 놀랍쓰:1, 핫:1, 에이쓰:1, ★ACE:1, DAY★:1, 이러닝:1, 콘텐츠:1, 검수지원:1, 주:1, 전:1, 관련:1, 고민:1, 『상담·진로개발센터』:1, 공쎈:2, 제11기:1, 서울테크노파크:1, MEMS:1, 공정교:1, 충청지역:1, 프레젠테이션:1, 아카데미:1, 참가:1, 네트워크:3, 긴급:3, 패치:3, 작업으:3, 인:3, 서비스안내:3, 제3기:1, KOTRA:1, IPP:3, 설명회:2, 안내:7, 2014학:2, 상반기:2, 신청:5, 인문향연:1, 인디밴드:1, 콘서트:1, THE:1, 현장실습:2, 동계:3, 인턴:1, HRD:1, 개최:1, 우리말:1, 뽐내기:1, 준비:1, 위:1, 글쓰기:1, 더보기:7, 장학공지:1, ★:1, 교내장학:1, 2019학:1, 1학기:2, 교내:1, 학비감면:1, 장학:1, 201:3, 국:1, 교육근로장학금:1, 국가우수장학:1, 이공계:1, 재학중우수:1, 한학기지원:1, 2018학:5, 2학기:2, 단비장학생:1, 장학기금:1, amp:2, T장학재단:1, 2019:1, 제6기:1, 장학생:1, 선발:1, 취업공지:1, 학사공지:1, 계절학기:1, 학점교류:1, 순천향대학교:1, 수강료:1, 납부:1, 철회:1, 동:1, 응급처치:1, 심폐소생술:1, 교:1, 이:1, 계절수업:1, 교양:1, 수강신청:1, 등록:1, “꿈:1, 친구처럼:1, 곁:1, 두세요:1, 참:1, ‘201:1, 요리경연대회:1, 연다:1, “세계:1, 햅틱:1, 기술:1, 총출동:1, ‘Asia:1, Hapti:1, ‘바람난:1, 도서관:1, 2018:1, 북캠프:1, CK사업단:1, 대학특성화사업:1, 평:1, ‘충청권:1, 팝업존:1, 플레:1, UNIVERSITY:1, OF:1, Cyber:1, Tour:1, 자주찾는:3, 서비스:3, 온라인교:2, 학사일정:2, 발전기금:2, 학과안내:2, 사이버감사실:2, 산학협력:2, LINC:2, 관련사이트:1, 기계공학부:1, 메카트로닉스공학부:1, 전기전자통신공학부:1, 컴퓨터공학부:1, 디자인공학전공:1, 건축공학전공:1, 에너지신소재화학공학부:1, 산업경영학부:1, 교양학부:1, 일반대학원:1, 테크노인력개발전문대학원:1, IT융합과학경영대학원:1, 최고경영자과정:1, 주요사이트:2, 공식카페:1, 네이버:1, 공식블로:1, 웹갤러리:1, 동문홈페이지:1, 웹메:1, 고용부:2, 잡:1, 워크:1, 잡코리:1, 사람:1, 인크루트:1, 교내주요기관:2, 다산정보관:1, 대학교육개발단:1, 산학협력단:1, 사업단:2, 생활협동조합:1, 공학교육혁신센터:2, PSM사업단:1, 반도체장비교육센터:1, 개도국기술이전연구소:1, HRD센터:1, 상담진로개발센터:1, IPP포털:2, 사회봉사센터:1, CIGMA:1, CENTER:1, 다담창의센터:1, IPP·Uni:1, Tech허브사업단:1, 창업지원센터:1, 듀얼공동훈련센터허브사업단:1, ACE:1, 학생자치단체:2, 총학생회:1, 총여학생회:1, 총동아리연합회:1, 코리아텍방송국:1, 코리아텍신문:1, 교지편집위원회:1, 생활관자치회:1, 전국대학생하이브리드자동차경진대회:1, 졸준위:2, 0:2, 대외유관기관:2, 고용노동부:1, 산업통상자원부:1, 기획재정부:1, 한국산업인력공단:1, 한국폴리텍대학:1, 한국교육개발원:1, 한국노동연구원:1, 근로복지공단:1, 한국산업안전보건공단:1, 한국고용정보원:1, 한국직업능력개발원:1, 장애인고용공단:1, 충청남도청:1, 천안시청:1, 국민권익위원회:1, 교과부:1, NTIS:1, 원격훈련심사센터:1, Footer:2, link:2, 개인정보처리방침:2, 이메일무단수집거부:2, 윤리헌장:2, 행정서비스헌장:2, 알리:2, 대학알리미:1, 대학정보공시:2, 공학교육인증안내:1, 도로명주소안내:2, 충청남도:1, 천안시:1, 동남:1, 병천면:1, 충절:1, 16:1, 가전리:1, nbsp:3, Tel:1, 04:1, 56:1, 111:1, Copyrightⓒ201:1, All:1, rights:1, reserved:1, GoogleAnalyticsObject:1, push:1, arguments:1, Date:1, getElementsByTagName:1, async:1, src:1, parentNode:1, insertBefore:1, window:1, www:1, google:1, analytics:2, com:1, js:1, ga:3, create:1, UA:1, 4785878:1, 1:1, 22:1, 6:2, send:1, pageview:1, }\n"
     ]
    }
   ],
   "source": [
    "#문제8\n",
    "import requests\n",
    "import string\n",
    "import codecs\n",
    "import pickle\n",
    "\n",
    "\n",
    "req = requests.get('https://www.koreatech.ac.kr')\n",
    "\n",
    "source = req.text\n",
    "with codecs.open('koreatech.ac.kr.html','w',\"utf-8\")as f:\n",
    "    f.write(source)\n",
    "while source.find('<')!= -1:\n",
    "    if(source[source.find('<')+1:source.find('>')]==\"style\"or source[source.find('<')+1:source.find('>')]==\"script\"):\n",
    "        source1=source[:source.find('<')]\n",
    "        soruce=source[source.find('<')+1:]\n",
    "        source=source1+source[source.find('<', source.find('>'))+1:]\n",
    "    else :\n",
    "        source=source[:source.find('<')]+source[source.find('>', source.find('<'))+1:]\n",
    "\n",
    "print(len(source.split()))\n",
    "words=source.split()\n",
    "s=' '.join(words)\n",
    "words=list(s)\n",
    "for i in range(len(words)):\n",
    "    for k in range(len(string.punctuation)):\n",
    "        if(words[i]==string.punctuation[k]):\n",
    "            words[i]=' '\n",
    "words=''.join(words)\n",
    "words=words.split()\n",
    "with codecs.open('Stopwords1.txt','r',\"utf-8\")as f:\n",
    "    s=f.readlines()\n",
    "    s=''.join(s)\n",
    "    s=s.split()\n",
    "    for i in words:\n",
    "        for j in s:\n",
    "            if(i==j):\n",
    "                words[words.index(i)]=''\n",
    "                break\n",
    "words=' '.join(words)\n",
    "words=words.split()\n",
    "with codecs.open('Stopwords2.txt','r',\"utf-8\")as f:\n",
    "    s=f.readlines()\n",
    "    s=''.join(s)\n",
    "    s=s.split()\n",
    "    for i in words:\n",
    "        for j in s:\n",
    "            if(i.find(j)!=-1):\n",
    "                if(i.endswith(j)==True):\n",
    "                    words[words.index(i)]=i[:i.find(j)]      \n",
    "                    break\n",
    "                elif(i==j):\n",
    "                    words[words.index(i)]=''\n",
    "                    break\n",
    "words=' '.join(words)\n",
    "words=words.split()\n",
    "\n",
    "count=dict()\n",
    "for d in words:\n",
    "    if d not in count:\n",
    "        count[d]=1\n",
    "    else:\n",
    "        count[d]+=1\n",
    "key=list(count.keys())\n",
    "value=list(count.values())\n",
    "\n",
    "\n",
    "with open('koreatech.ac.kr.words_frequency.pickle','wb')as f:\n",
    "    pickle.dump(count,f)\n",
    "print('{',end='')\n",
    "for i in range(len(key)):\n",
    "    print(\"%s:%d\"%(key[i],value[i]),end=', ' ),\n",
    "print('}')"
   ]
  },
  {
   "cell_type": "code",
   "execution_count": 12,
   "metadata": {},
   "outputs": [
    {
     "name": "stdout",
     "output_type": "stream",
     "text": [
      "1261\n"
     ]
    },
    {
     "name": "stdout",
     "output_type": "stream",
     "text": [
      "{var:21, nsc:1, navertop:1, v:2, document:2, domain:1, naver:45, com:25, jindoAll:1, iframeLazyLoad:1, false:5, window:4, console:3, log:2, function:8, isLogin:1, refreshLcs:2, etc:7, cookie:1, indexOf:1, nrefreshx:1, mrf:1, else:1, pan:1, scl:2, return:1, NAVER:3, style:1, 연합뉴스:2, 바로가기:6, 주제별캐스트:1, 타임스퀘:2, 쇼핑캐스트:2, 로그:2, 네이버:14, 시작페이지:1, 쥬니어네이버:1, 해피빈:2, 검색:12, 자동완성:12, 펼치기:5, 한글:1, 입력기:1, 생각한:1, 검색해:1, 보세요:2, Beta:1, txt:7, 시간대:2, 관심사:1, 맞춘:1, 컨텍스트:3, 도움말:2, 보기:21, ON선택됨:1, OFF:1, 동일:1, 연:3, 남녀별:1, 사용:4, 그룹의관심사:1, 맞춰:1, 제공합니다:1, 자세히:2, ON:1, OFF설정은해당:1, 기기:1, 브라우:1, 저장됩니다:1, 레이:1, 닫기:3, 도움말신고검색어저장:4, 켜기자동완성:4, 끄기:5, 기능:9, 켤:4, 때는:4, 클릭하세요:4, 현재:1, 계십니다:1, 활성화되었:1, 꺼져:3, 있:5, 켜기:1, 최근검색어내:1, 내:7, 등록:3, date:5, 삭:1, 최근검색:1, 내역:1, 없:3, 저장:3, 해:2, 설정된:1, 최근검색어:1, 선택하:1, 자주:1, 찾는:1, 검색어를내:1, 저장해:1, 알림공용:1, PC에서는:1, 개인정보:1, 보호:1, 로그아웃:1, 주세요:1, 기록:3, 삭제검색어저장:2, 끄기자동완성:2, 전체:5, 삭제완료:1, 검색어는:1, 최대:1, 10개:1, 추가하시려면:1, 기존:1, 지워주세요:1, 자세히보기:1, image:1, 회차:1, money:1, 원:1, 기온:2, ℃:2, display:1, link:1, 사이트:1, 바:2, 이동:3, query:1, intend:1, 바로이동:1, mismatch:4, match:2, 메:1, 카페:1, 블로:1, 지식:1, 쇼핑:1, 네:1, 네이버TV:1, 사전:1, 뉴스:4, 증권:1, 금융:1, 부동산:1, 지도:2, 영화:3, 뮤직:3, 책:1, 만화:1, 웹툰:3, 더보기:1, 급상승:4, 검색어:3, 이민정:2, 이병헌:2, 나:4, 정석용:2, 임실:2, 업둥:2, 임원희:2, 노사연:2, 임실치즈피:2, 신동엽:2, 대마도:2, 이무송:2, 태진:2, 유진:2, 초:2, 그린닷:2, 운명:2, 분노:2, 손흥민:2, 골:2, 항암배추:2, 원피스:2, 863화:2, 애니:2, 베타:2, 제주:5, 생각:2, 정원:2, DataLab:1, 트래킹:1, 10위:2, 20위:1, 데이터랩:20, 그래프:20, 2:13, 201:261, 기준:1, KT:2, 화재:1, 일상:1, 마비된:1, IT강국:1, 정도면:1, 재난:1, 수준:1, 통신장애:1, 피해:1, 유·무선:1, 고객:1, 1개:1, 요금:1, 감면:1, EU·영국:1, 브렉시트:1, 탈퇴협상:1, 공식:1, 마무리…비준절차:1, 착:1, 한반도:1, 연쇄:1, 정상외교:1, 발판:1, 북미고위급회담:1, 주중:1, 열릴까:1, 대:7, 지방선거서:1, 차이잉원:1, 민진당:1, 참패…중국:1, 안도:1, 야3당:1, 연동형비례:1, 도입:1, 민주·한국:1, 계산:1, 말고:1, 결단:1, 하:1, 김혜경:1, 고발:1, 이정렬:1, 변호:1, 대리인:1, 물러나겠다:1, 후배들:1, 알아서:1, 했다:1, …각자도생:1, 나선:1, 전직:1, 대법관:1, 월요:1, 미세먼지:2, 나쁨:1, …낮엔:1, 오늘보다:1, 5도:1, 높:1, 포근:1, 회항:1, 항공기:1, 안:1, 6:1, 대기:1, 기다려:1, 되풀:1, 네이버뉴스:1, 스포츠:5, 경:2, 뉴스스탠드:1, 언론:5, MY:1, 이미지형:1, 리스트형:1, 설정:6, 이전:2, 페이지:2, 목록:3, 구독:19, 해지:18, 기사보기:18, 종합:1, 방송:1, 통신:1, IT:1, 영자지:1, 매거진:1, 전문지:1, 지역:1, MY언론사:1, 추가하면설정:1, 언론사:2, 기사들:1, 홈:1, 보실:1, 추:1, Sign:3, Connect:1, people:1, Forgot:1, Username:1, Password:1, 영어회화:1, 앞:1, 목록으:2, 뒤:1, 방:1, 너무:1, nbsp:5, 추워요:1, My:1, cold:1, 마:1, 룸:1, 이즈:1, 투:1, 콜드:1, 주제형:1, 캐스트:1, 관심:4, 주:9, 선택:1, 리빙:2, 푸드:2, 자동차:2, 패션뷰티:2, 부모i:2, 건강:2, 게임:2, TV연:2, 책문화:2, 함께N:2, 여행:2, 디자:2, 경제M:2, JOB:5, 과학:2, 중국:2, 비즈니스:4, FARM:5, 스쿨잼:8, 공연전시:2, 법률:2, 동물공감:2, 연애·결혼:2, 테크:2, 감성충전:2, 열기:1, name:364, isNewPanel:1, NEW:2, 관심주:1, 설정하시겠:1, 확:3, 취소:3, 모바:3, 가져오시겠:1, 관심주제:1, 가져오기:2, 로그인:2, 가능합니다:2, 초기화:1, 전체선택:1, 주제:1, 이벤트:1, 쨈터뷰:1, 고민상담:1, 스쿨툰:1, 쨈톡:1, 곰손:1, 도전:1, 오렌지:1, 우유:1, 포도:1, 우유는:1, 없을까:1, 그러고보니:1, 대동여지도보다:1, 100년이:1, 빨리:1, 만들어진:1, 우리나:1, 지도는:1, 편의점:1, 샌드위치:1, 12개:1, 비교:1, 분석:1, 뭐:1, 제:1, 맛있을까:1, 깨끗하게:1, 씻:1, 피부:1, 위:1, 올바른:1, 세안법:1, 오늘:1, 실천:1, 고고:1, isUnderIE:1, AgentDetect:2, IS:1, IE:1, searchBrowserVersion:1, da:33, dom:44, id:31, typeof:3, nbp:2, ad:5, undefined:3, mobilenetwork:1, div:1, adw:1, tarEl:2, NBP:3, CORP:3, uId:10, util:2, corp:10, Util:2, Nimp:1, ActiveView:2, ac:3, 20301231235:2, scroll:4, target:8, targetEl:1, orientation:2, change:2, time:2, callback:3, url:3, https:269, nv:20, veta:23, fxview:1, eu:1, EU1001937:1, calp:20, oj:1, U8ZszKjtbBvVom0XabBE81XT4wcQ:1, 2FdiaqpvnUBB8ubJTNf8lRJluzmQbEkDwIInI:1, 756075:1, src:1, 318438:1, evtcd:1, C107:1, ti:1, 9:17, tb:20, SCHOOL:4, 1:64, oid:1, sid:2, rk:1, dc74:1, eltts:1, xQgrG6uJ6Cqv2Z1eZXujWg:1, 3D:2, brs:1, Y:259, eid:1, V9:1, ev:5, try:3, parseInt:1, getBoundingClientRect:1, height:1, offsetHeight:1, catch:3, finally:1, callbackForInValid:3, activeViews:7, null:293, clearActiveView:1, adDivId:1, acEndDate:1, adEndDate:1, scrollTarget:1, activeViewTime:1, activeViewPercentage:1, 5:2, orientationChangeTime:1, checkActiveView:1, 김향기:1, 낸시:1, 2019년:1, 스무:1, 살:1, 스타:1, 밀레니엄:1, 베이비:1, 벌써:1, 일센티:2, 너지:1, 너:1, 거지:1, 양상명:1, 거북목:2, 교정:2, 운동:2, data:5, expsStartYmdt:1, expsEndYmdt:1, fixedSeq:1, fixedExpsStartYmdt:1, fixedExpsEndYmdt:1, 하루:1, 1분:1, 따라해보:1, 초등생활백서:1, 반장:1, 자꾸:1, 일:1, 시켜요:1, 고민:1, 상담소:1, 연재:1, 우주정거장:1, 원기둥으:1, 이루어져:1, 있는:1, 칸아카데미:1, 커넥트재단:2, 글로벌:1, 기업들:1, 구내식당:1, 모습:1, 입사욕:1, 뿜뿜:1, 로또:1, 당첨된다면:1, 정말:1, 행복해질까요:1, 아삭아삭:1, 민주주:1, 학교:1, BEST:4, 나라는:1, 아침:1, 뭘:1, 먹을까:1, 나라별:1, 아침식:1, 메뉴:1, 인기있었던:4, 뜨거워:1, 화상:1, 입었:1, 응급처치법:1, 인공위성으:1, 촬영:1, 지구:1, 경이로운:1, 장소:1, Top:1, 라면:1, VS:1, 떡볶:1, 평생:1, 하나:1, 먹어:1, castbox:1, shopping:1, shopbox:1, main:43, nhn:1, 온라:1, 코드리뷰:1, 모집:1, 코드입문:1, 코칭:1, 웹:1, 안드로이드:1, iOS:1, 펀딩:1, 나무:2, 닮은:1, 다이어리:2, 쓰면:1, 쓸수록:1, 생기는특별:1, 야자잎:1, 공지사항:1, 새로운:2, 모바일:2, 따른:1, 변화:1, 안내:3, 드립니다:1, 서비스:1, 전체보기:1, 프로젝트:2, 꽃:2, 새로운네이버모바:1, 다운로드:1, Creators:1, 크리에이터:1, 스몰비즈니스:1, Partners:1, 파트:1, 광고:1, 스토:1, 개설:1, 지역업체:1, Developers:1, 개발자센터:1, 오픈:1, API:1, 오픈소스:1, D:1, 랩스:1, 정책:2, 약관:1, 회사소개:1, 인재채용:1, 제휴제:1, 이용약관:1, 개인정보처리방침:1, 청소년보호정책:1, 고객센터:1, ⓒ:1, Corp:1, svr:2, svt:1, 2018112:1, aPanelListAll:3, nmainJS:3, pm:1, pstatic:262, net:262, js:8, nmain:1, sThemecastAdScriptUrl:2, ssl:3, tveta:3, libs:3, assets:3, pc:6, min:6, core:3, push:1, loadJS:1, setTimeout:1, lcs:1, jindo:1, LazyLoading:1, load:1, nelo:1, setEnable:2, true:2, JEagleEyeClient:2, initPage:2, adMap:29, code:103, LIVINGHOME:3, css:29, livinghome:2, nclick:29, lif:1, openDate:29, LIVING:3, living:2, fod:1, SPORTS:1, sports:2, spo:1, CARGAME:3, cargame:2, aut:1, BEAUTY:3, beauty:2, bty:1, MOMKIDS:3, momkids:2, mom:1, HEALTH:1, health:1, hea:1, BBOOM:1, bboom:1, web:1, GAMEAPP:1, gameapp:1, gam:1, VIDEO:1, video:1, tvc:1, MUSIC:1, music:1, muc:1, movie:4, adPath:5, 2Ffxshow:5, 3Fsu:5, 3DSU101:1, 26da:5, 3Dp:5, 26tb:5, 3DMOVIE:1, MOVIE:3, mov:1, CULTURE:1, culture:1, bok:1, WITH:1, pub:1, travel:4, 3DSU1019:1, 3DTRAVEL:1, TRAVEL:3, tra:1, DESIGN:3, design:2, des:1, FINANCE:3, finance:2, fin:1, job:5, 3DSU1:2, 3DJOB:1, SCIENCE:1, science:1, sci:1, CHINA:3, china:2, chn:1, business:4, 3DSU1020:1, 3DBUSINESS:1, BUSINESS:3, bsn:1, farm:2, school:4, 3DSCHOOL:1, SHOW:3, sow:1, LAW:3, law:3, 2017080:1, ANIMAL:3, animal:2, ani:1, 2017082:1, WEDDING:3, wedding:2, wed:1, 20:2, ITTECH:3, ittech:2, tec:1, EMOTION:1, emotion:1, emo:1, sendError:1, invalid:2, panel:1, json:1, PageRefresh:1, init:6, Panel:1, Log:1, ServiceNavi:1, ThemecastNavi:1, bFlick:1, sAdList:1, header:1, msg:1, success:1, body:1, adScriptList:1, adScriptPCMain:1, http:16, adList:1, menu:19, childMenu:19, adType:19, singleDom:19, multiDomAdUrl:19, multiDomUnit:19, infoList:19, adposId:19, 100012:2, singleDomAdUrl:19, fxshow:19, param:19, unit:19, SU:2, type:19, position:19, rel:19, positionIndex:19, subject:19, contents:19, 100010:6, SU1024:1, 100008:5, SU1020:4, SU1025:1, SU1:4, 100011:2, 10000:1, SU102:1, SU10:2, SU1022:1, SU101:1, 0:254, SU1019:1, SU1026:1, CenterBanner:1, newSmartSearch:1, Newsstand:1, rcode:1, 1513136:1, newspaperURL:1, newspaper:1, newsStandURL:1, newsstand:259, userInfoURL:1, userinfo:1, www:1, newsCastInfo:1, newsStandInfo:1, headlineList:1, pid:259, 00:18, 01:14, 02:17, 08:11, 09:3, 13:7, 21:8, 24:5, 29:5, 30:5, 31:7, 3:11, 32:10, 33:19, 34:6, 35:4, 36:9, 37:5, 38:10, 39:6, 41:6, 42:2, 4:5, 44:4, 52:2, 53:4, 90:17, 91:14, 92:16, 93:15, 94:16, 95:16, 96:16, 97:16, 98:16, 99:4, amigo:259, pressCategory:1, ct:266, 03:9, 경향신문:2, img:258, static:258, nsd1437243:2, png:258, cate:258, N:516, viewer:258, local:258, 국민일보:2, nsd143891:2, 노컷뉴스:2, nsd14395888:2, 뉴데일리:2, nsd14403793:2, 뉴스타파:2, nsd1441524:2, 뉴시스:2, nsd:27, 데일리:2, nsd1446336:2, 동아일보:2, nsd1447987:2, 디지털타임스:2, 071:2, nsd16251682:2, 마이데일리:2, nsd144:2, 매일경:2, nsd14:5, 머니투데:2, nsd14521451:2, 문화일보:2, 미디어오늘:2, nsd14534661:2, 블로터:2, nsd1753506:2, 서울경:2, 서울신문:2, 세계일보:2, nsd14581355:2, 스포츠동:2, nsd14595176:2, 07:11, 스포츠서울:2, nsd150:2, 스포츠조선:2, nsd18355386:2, 스포탈코리:2, nsd15184066:2, 시사:2, nsd1:13, 아시아경:2, nsd15343222:2, 아이뉴스2:2, nsd15395586:2, 연합뉴스TV:2, nsd1542198:2, 오마이뉴스:2, nsd154:2, 이데일리:2, nsd15442635:2, 일간스포츠:2, nsd15461:2, 전자신문:2, nsd16252872:2, 조선비즈:2, nsd16265952:2, 조선일보:2, nsd16:4, 중앙데일리:2, nsd103519:2, 중앙일보:2, 080:2, nsd148447:2, 지디넷코리:2, 지지통신:2, nsd164:2, 코리아헤럴드:2, nsd1734194:2, 파이낸셜뉴스:2, nsd17255749:2, 프레시:2, nsd17261:2, 한겨레:2, nsd172:5, 한국경:2, nsd17273617:2, 한국경제TV:2, nsd17275513:2, 한국일보:2, nsd1728372:2, 헤럴드경:2, nsd17285556:2, JTBC:2, nsd17:5, KBS:4, nsd17312430:2, World:2, nsd173138:2, MBC:2, nsd1732494:2, 05:9, MBN:2, OSEN:2, nsd1733885:2, SBS:2, nsd173335:2, YTN:2, nsd17355987:2, 건설경제신문:1, 나우뉴스:1, nsd143:2, 뉴스토마토:1, nsd1443111:1, 뉴스핌:1, 061:1, nsd17343069:1, 더팩트:1, nsd14454312:1, 매일노동뉴스:1, nsd16144329:1, 머니에스:1, 메트로신문:1, nsd161618:1, 미주중앙일보:1, 040:2, nsd20:1, 브릿지경:1, 비즈니스워치:1, 110:2, nsd1555406:1, 비즈니스포스트:1, nsd14563:1, 비즈한국:1, nsd1422459:1, 소비자가만드는신문:1, 101:3, nsd168767:1, 시사위크:1, 112:2, nsd8:1, 시사저널이코노미:1, 120:5, nsd141309:1, 아시아투데:1, 아주경:1, nsd11195443:1, 에너지경:1, 011:1, nsd10511361:1, 연합인포맥스:1, nsd154238:1, 위키트리:1, nsd15444:1, nsd161:1, 이코노미스트:1, nsd1544474:1, nsd1684287:1, 인민망:1, 일요시:1, nsd9561098:1, 일요신문:1, nsd19254676:1, 12:4, 조세일보:1, 초이스경:1, nsd16443152:1, 쿠키뉴스:1, 한국금융신문:1, BBS:1, NEWS:1, nsd1432491:1, CEO스코어데일리:1, 062:1, nsd12432879:1, CNB뉴스:1, nsd11365583:1, EBN:1, M이코노미뉴스:1, nsd161518:1, PD저널:1, nsd1440:1, 머니투데이방송:1, nsd14524974:1, 아리랑TV:1, nsd15335780:1, 채널에:1, CNN:1, nsd17301058:1, EBS:1, KBC광주방송:1, 012:1, nsd11:2, KNN:1, OBS:1, SBSCNBC:1, TBC대구방송:1, 100:2, nsd11315039:1, TV조선:1, 090:3, nsd15392338:1, YTN사이언스:1, nsd173:1, tbs교통방송:1, 020:1, nsd1984:1, 넥스트데일리:1, 디지털데일리:1, nsd1448112:1, 보안뉴스:1, nsd1136174:1, 031:3, 키뉴스:1, 헬로디디:1, 121:2, IT조선:1, nsd17305796:1, YONHAPNEWS:1, nsd17354221:1, 뉴스엔:1, nsd14411072:1, 11:9, 스타뉴스:1, nsd1459283:1, 스포츠경향:1, nsd1459:1, 스포츠월드:1, nsd152149:1, 스포츠투데:1, 스포츠한국:1, nsd16164771:1, 스포티비뉴스:1, nsd13432531:1, 엑스포츠뉴스:1, nsd15411:1, 엠스플뉴스:1, nsd11302771:1, 조이뉴스2:1, 텐:1, 티브이데일리:1, MK스포츠:1, SBS연예스포츠:1, nsd17343090:1, TV리포트:1, enews2:1, 게임메카:1, nsd14345443:1, 과학동:1, nsd14372158:1, 국방일보:1, nsd14382763:1, 그린포스트코리:1, nsd9542855:1, 낚시춘추:1, nsd1136175:1, 농민신문:1, nsd1440201:1, 뉴스컬처:1, nsd14171519:1, 더스쿠프:1, nsd10341593:1, 데일리NK:1, nsd101815:1, 데일리한국:1, nsd14462957:1, 독서신문:1, nsd9333358:1, 디자인정글:1, nsd14473294:1, 르몽드:1, 디플로마티크:1, nsd144911:1, 매경이코노미:1, nsd14501154:1, 맥스무비:1, nsd18303319:1, 법률신문:1, nsd14543130:1, 베리타스알파:1, nsd16131:1, 사이언스타임즈:1, nsd14565759:1, 소년한국일보:1, nsd145:1, 시사저널:1, 14:4, 씨네2:1, nsd15325181:1, 약사공론:1, nsd1615502:1, 에이블뉴스:1, nsd154040:1, 엘르:1, nsd15:1, 여성신문:1, nsd154151:1, 월간중앙:1, nsd11351580:1, 이웃집과학:1, nsd112561:1, 이코노미조선:1, 022:1, nsd1357:1, 인벤:1, 자동차생활:1, 전기신문:1, nsd16181880:1, 정신의학신문:1, nsd1618:1, 주간조선:1, 091:2, nsd10455428:1, 채널예스:1, nsd16441254:1, 철강금속신문:1, nsd20163723:1, 컴퓨터월드:1, nsd1715076:1, 코리아쉬핑가제트:1, 코메디닷컴:1, nsd172354:1, 투데이신문:1, nsd9:1, 포브스코리:1, 한겨레2:1, 한경비즈니스:1, nsd17271262:1, 한국대학신문:1, nsd172816:1, 헬스조선:1, nsd17291172:1, PC사랑:1, nsd17332210:1, TheAsiaN:1, nsd1735231:1, 강원도민일보:1, 강원:2, 강원일보:1, nsd1434348:1, 경기일보:1, nsd14351150:1, 경기:5, 인천:5, 경남신문:1, nsd14353181:1, 경남:3, 부산:3, 울산:6, 경북도민일보:1, nsd111:1, 경북:6, 경북매일신문:1, 04:5, 경북일보:1, nsd1436121:1, 10:5, 경상일보:1, 경인일보:1, nsd14364:1, 광주드림:1, nsd1762946:1, 광주:4, 광주일보:1, 전남:3, 국제신문:1, nsd14384499:1, 기호일보:1, 대구일보:1, nsd14443390:1, 대전일보:1, 대전:5, 충남:5, 충북:5, 세종:5, 매일신문:1, nsd1450557:1, 무등일보:1, nsd1342248:1, 부산일보:1, nsd14545:1, 영남일보:1, nsd15425589:1, 06:1, 울산매:1, nsd15433477:1, 인천일보:1, nsd15455868:1, 전남일보:1, nsd16242330:1, 전북도민일보:1, nsd1624462:1, 전북:2, 전북일보:1, nsd1625680:1, 제민일보:1, nsd1625492:1, 제주도민일보:1, nsd162696:1, 제주의소리:1, nsd16263111:1, 중도일보:1, nsd16282285:1, 중부매일신문:1, 중부일보:1, nsd162:1, 충북일보:1, nsd16444966:1, 충청일보:1, 충청투데:1, nsd1713397:1, 한라일보:1, nsd104551:1, isSupportedFlicking:2, Timesquare:1, aOrderedPanel:1, weather:1, 날씨:1, news:1, conversation:1, 회화:1, lifetools:1, 생활도:1, RealtimeKeyword:1, Agent:2, navigator:2, ie:1, version:1, }\n"
     ]
    }
   ],
   "source": [
    "#문제8\n",
    "import requests\n",
    "import string\n",
    "import codecs\n",
    "import pickle\n",
    "\n",
    "\n",
    "req = requests.get('http://www.naver.com')\n",
    "\n",
    "source = req.text\n",
    "with codecs.open('www.naver.com.html','w',\"utf-8\")as f:\n",
    "    f.write(source)\n",
    "while source.find('<')!= -1:\n",
    "    if(source[source.find('<')+1:source.find('>')]==\"style\"or source[source.find('<')+1:source.find('>')]==\"script\"):\n",
    "        source1=source[:source.find('<')]\n",
    "        soruce=source[source.find('<')+1:]\n",
    "        source=source1+source[source.find('<', source.find('>'))+1:]\n",
    "    else :\n",
    "        source=source[:source.find('<')]+source[source.find('>', source.find('<'))+1:]\n",
    "\n",
    "print(len(source.split()))\n",
    "words=source.split()\n",
    "s=' '.join(words)\n",
    "words=list(s)\n",
    "for i in range(len(words)):\n",
    "    for k in range(len(string.punctuation)):\n",
    "        if(words[i]==string.punctuation[k]):\n",
    "            words[i]=' '\n",
    "words=''.join(words)\n",
    "words=words.split()\n",
    "with codecs.open('Stopwords1.txt','r',\"utf-8\")as f:\n",
    "    s=f.readlines()\n",
    "    s=''.join(s)\n",
    "    s=s.split()\n",
    "    for i in words:\n",
    "        for j in s:\n",
    "            if(i==j):\n",
    "                words[words.index(i)]=''\n",
    "                break\n",
    "words=' '.join(words)\n",
    "words=words.split()\n",
    "with codecs.open('Stopwords2.txt','r',\"utf-8\")as f:\n",
    "    s=f.readlines()\n",
    "    s=''.join(s)\n",
    "    s=s.split()\n",
    "    for i in words:\n",
    "        for j in s:\n",
    "            if(i.find(j)!=-1):\n",
    "                if(i.endswith(j)==True):\n",
    "                    words[words.index(i)]=i[:i.find(j)]      \n",
    "                    break\n",
    "                elif(i==j):\n",
    "                    words[words.index(i)]=''\n",
    "                    break\n",
    "words=' '.join(words)\n",
    "words=words.split()\n",
    "\n",
    "count=dict()\n",
    "for d in words:\n",
    "    if d not in count:\n",
    "        count[d]=1\n",
    "    else:\n",
    "        count[d]+=1\n",
    "key=list(count.keys())\n",
    "value=list(count.values())\n",
    "\n",
    "with open('www.naver.com.words_frequency.pickle','wb')as f:\n",
    "    pickle.dump(count,f)\n",
    "\n",
    "print('{',end='')\n",
    "for i in range(len(key)):\n",
    "    print(\"%s:%d\"%(key[i],value[i]),end=', ' ),\n",
    "    \n",
    "print('}')"
   ]
  },
  {
   "cell_type": "code",
   "execution_count": 13,
   "metadata": {},
   "outputs": [
    {
     "name": "stdout",
     "output_type": "stream",
     "text": [
      "5666\n"
     ]
    },
    {
     "name": "stdout",
     "output_type": "stream",
     "text": [
      "{Daum:2, charset:1, utf:1, body:7, div:1, dl:2, dt:4, dd:4, ul:2, ol:2, li:59, h:6, pre:1, code:2, form:1, fieldset:2, legend:1, textarea:4, blockquote:4, th:3, td:3, input:5, select:4, button:5, margin:249, padding:202, img:54, border:70, none:59, menu:5, list:387, style:2, quotes:1, content:5, radius:5, vertical:37, align:65, middle:3, ms:13, display:149, background:560, color:221, transparent:22, cursor:11, pointer:12, fff:43, direction:1, ltr:1, webkit:16, text:134, size:155, adjust:1, font:212, 13px:66, line:168, height:480, family:41, AppleSDGothicNeo:1, Regular:1, Malgun:1, Gothic:7, 맑은:1, 고딕:1, dotum:4, 돋움:4, sans:41, serif:41, letter:29, spacing:29, 1px:108, os:175, mac:175, decoration:39, hover:52, 118eff:25, underline:15, active:12, address:1, caption:1, cite:1, dfn:1, em:1, var:1, normal:27, weight:39, ir:2, pm:1, block:127, overflow:197, hidden:168, indent:36, 9999px:30, wa:1, position:585, relative:75, width:383, index:44, screen:10, absolute:116, hide:1, shortcut:9, top:351, 34px:19, left:302, 33px:12, 20px:86, 26px:16, bottom:77, solid:54, 11px:67, 14px:59, 26292a:1, center:22, focus:1, inner:23, inline:40, 10px:50, 8px:49, 220px:9, 223px:1, ico:200, pctop:69, url:68, t:63, daumcdn:68, net:68, daumtop:63, deco:63, images:63, 201:65, 18042:2, png:64, repeat:43, vert:5, 17072:3, txt:155, 17091:2, white:36, space:37, nowrap:33, bg:35, 17032:6, num:87, 17040:2, thumb:88, frame:64, opacity:11, filter:5, alpha:4, daumWrap:2, min:13, 1080px:3, transform:56, translate3d:1, 0px:15, head:30, daum:47, cont:48, main:3, 990px:12, 15px:51, auto:41, topic:25, ececec:23, fbfbfc:4, feature:1, tmp:7, wrap:70, 40px:22, zoom:1, visibility:1, cmain:1, float:128, 655px:8, 35px:4, wing:8, 300px:18, foot:35, 37px:10, 78px:6, link:289, logo:1, info:133, notice:35, 250px:5, 30px:63, tit:213, 9px:31, 169px:1, 542px:1, 19px:17, ellipsis:30, search:31, 32px:9, box:154, 209px:3, 28px:25, c:5, 0089ff:4, tf:4, keyword:4, 164px:2, 5px:32, outline:2, btn:74, 230px:1, svcall:2, 81px:1, bold:18, 194px:2, policy:5, 23px:13, 12px:77, dot:1, 2px:50, copyright:3, 6px:32, kakao:1, 3px:44, 31px:6, 172px:1, 4px:45, 83px:2, 196px:2, 24px:16, 150px:19, 180px:15, launch:2, 45px:16, 18px:42, 21px:16, 50px:9, sch:1, 44px:8, 80px:20, transition:29, property:2, duration:1, 8s:2, linear:6, gradient:2, 86aaff:1, 70bc4c:1, ffbe:1, f46e8:2, 46px:4, delay:1, 422px:1, 7px:33, ime:1, mode:1, appearance:1, 49px:4, 42px:4, 231px:1, slide:71, favorsch:7, 480px:4, page:39, bnr:7, headbnr:1, keyboard:225, image:37, 17122:16, key:2, 58px:5, 29px:8, layer:236, 382px:1, 16px:71, 435px:1, 166px:15, 120px:30, eng:22, basic:13, shift:23, 140px:13, close:11, 100px:30, 1nd:1, 2nd:1, 3nd:1, kor:20, 1801:2, 60px:54, 90px:16, 210px:11, 240px:11, 270px:5, 330px:3, 360px:3, 75px:4, 105px:3, 135px:5, 165px:2, 195px:3, 225px:2, 2:15, 255px:2, 285px:3, 315px:2, 345px:3, 375px:2, 68px:14, 3:39, 102px:13, 4:6, spe:13, bksp:1, 41px:4, 390px:1, 71px:3, 56px:7, lang:1, 86px:4, 136px:6, 251px:1, enter:1, daumSuggestWrap:2, suggestBox:99, 520px:1, baseBox:6, dcdcdc:7, 17px:22, 굴림:4, gulim:4, Apple:6, SD:6, Neo:6, reverseType:2, item:132, f:6, strong:1, e:1, guide:1, footer:9, fbfbfb:8, ededed:2, fl:3, fr:2, 939px:1, bar:13, ddd:1, offGuide:1, 211px:1, 27px:7, statics:5, common:5, pi:5, suggest:65, service:40, gif:4, 999em:1, offSuggest:1, answer:2, span:1, exact:65, unit:13, arial:21, tahoma:12, celsius:2, arrow:10, 98px:2, equal:1, blue:2, 007aff:2, red:2, e52d3:2, time:6, 25px:16, a:1, dedede:1, import:1, ea570a:1, lotto:2, f6a8:2, 4155cb:1, f64d6:1, 585d6e:1, plus:1, 20:2, 59px:9, weather:23, static:3, w:2, 1620px:1, w0:14, night:24, 420px:1, 540px:2, 600px:5, 660px:2, 720px:1, 780px:1, w1:12, 840px:1, 900px:2, 960px:2, 1020px:1, 1140px:1, 1200px:1, 1260px:1, 1320px:1, 1380px:1, 1440px:1, 1500px:1, 1560px:1, mainsvc:17, cafe:12, mail:1, 36px:34, news:27, 66px:2, map:1, 103px:1, stock:23, 139px:4, shopping:4, 176px:3, kakaotv:12, 64px:2, 212px:4, webtoon:7, 276px:1, blog:5, 48px:5, 313px:1, brunch:7, 47px:3, 361px:1, dic:1, 408px:1, game:8, 444px:1, starplay:1, 481px:1, 653px:2, coll:3, svc:5, 109px:3, sort:13, 22px:24, split:11, 160px:14, type:52, 146px:6, fst:36, 108px:7, total:2, 1:75, base:7, comp:1, 17062:2, temper:19, helvetica:7, date:3, ws:5, 180102:4, wm0:28, wm1:24, wm:14, degree:4, 138px:5, 292px:4, 304px:1, 298px:7, locate:2, 246px:2, 286px:1, local:1, 200px:22, 400px:7, 500px:4, 700px:3, 800px:3, 130px:15, 260px:14, 280px:4, 320px:2, minus:3, 39px:4, desc:19, 208px:2, dust:3, air:2, 264px:1, 0078ff:1, 27aa1d:1, bad:1, fecc3d:1, worst:1, e3:3, advert:10, 118px:2, station:2, 148px:9, 1175px:1, 775px:1, 790px:1, 383px:1, svcbnr:3, tiercont:1, login:26, rel:8, name:2, user:2, myinfo:1, sso:6, 235px:3, ssoing:1, 205px:1, ssohelp:1, 85px:1, 77px:1, 82px:2, help:12, table:2, cell:1, empathy:1, 5b647:1, logout:1, basis:11, 43px:6, 12em:1, msg:1, mileage:1, mysvc:25, mycafe:1, 310px:15, mystock:1, myblog:1, mycont:3, 353px:1, privacy:1, panel:52, bloc:52, 61px:1, tabcont:11, view:100, video:2, 70px:9, live:9, g:2, label:13, rgba:2, progid:1, DXImageTransform:1, Microsoft:1, startColorstr:1, 99:2, endColorstr:1, GradientType:1, e8493d:1, tag:12, event:15, 110px:8, issue:27, hot:4, new:1, ad:1, 226px:2, slash:1, btype:6, 170px:10, 177px:1, 154px:21, 94px:5, 152px:15, 92px:3, max:25, word:20, break:15, mid:2, 222px:1, 03em:2, stxt:4, mark:2, sector:21, 321px:9, 131px:1, 319px:4, 129px:1, plate:9, ranking:59, 288px:1, story:26, subject:6, section:18, media:8, 57px:4, entertain:6, 55px:1, sports:15, movie:31, 147px:2, 186px:2, realestate:14, 72px:3, 122px:3, 51px:2, 158px:3, special:67, 99px:1, prime:4, 438px:2, 316px:1, 334px:1, flow:4, home:18, hash:1, 277px:2, cover:2, 132px:1, 275px:2, 14:1, 501px:1, ranknews:4, 265px:3, 126px:1, tab:16, 190px:4, cast:24, relay:63, team:19, league:1, score:17, 93px:3, 84px:1, 69px:1, 159px:17, 52px:2, 107px:2, 53px:3, 38px:4, 106px:4, 89px:1, 63px:2, 641px:1, pack:1, banner:5, 308px:1, 306px:1, wide:2, 419px:1, 417px:1, 54px:2, grade:2, star:3, 62px:4, 203px:2, 201px:1, play:1, runtime:2, 199px:1, hotissue:64, roll:4, rank:21, rank1:2, 119px:1, result:3, 05em:1, steady:1, mini:18, 161px:2, 117px:2, 95px:2, realtime:7, 325px:4, 198px:1, 384px:2, 104px:2, standard:3, builtin:1, 153px:1, 424px:1, 114px:1, status:7, stay:1, multi:8, 157px:9, 380px:2, melon:2, imgspe:4, 179px:1, miznet:6, kakaostory:6, 87px:1, tistory:6, 178px:1, 243px:1, storyfunding:6, 296px:1, 88px:1, 174px:2, 236px:2, 74px:2, 336px:2, 256px:6, 297px:1, origin:19, teller:3, storyteller:2, 115px:1, 96px:5, graph:20, support:6, full:1, channel:41, 507px:1, homecooking:6, money:6, pet:6, women:6, 133px:3, 182px:3, travel:6, business:6, 274px:3, music:30, 362px:3, 398px:5, together:3, 434px:3, 497px:2, 346px:12, 124px:3, 410px:1, chdesc:7, chwide:11, 284px:2, chextra:20, emph:2, extra:2, 76px:1, chbest:12, infobnr:17, recomm:23, 670px:1, 295px:3, 629px:1, wtrank:19, events:1, num1:2, 646px:1, singer:1, num2:1, num3:1, num4:1, photo:50, photoclip:1, 242px:2, phototheme:1, 682px:2, detail:4, 341px:1, 680px:1, gallery:10, source:2, Helvetica:1, preview:6, prev:4, 184px:1, thumbnail:59, 6:2, move:2, vphoto:9, 495px:2, 988px:1, 244px:1, 192px:1, lst:15, 197px:2, 193px:1, 163px:2, 162px:1, 137px:1, 97px:1, 464px:1, 610px:3, 465px:2, headline:2, sub:5, gate:7, subtxt:1, topicbg:4, 5:8, ecf2f:1, f4faff:1, start:6, set:2, mobileweb:8, mobile:7, dadbdd:1, device:4, pixel:4, ratio:4, resolution:4, 144dpi:2, 5dppx:2, r:1, 1680px:1, rtn:22, 490px:1, 460px:1, 431px:8, 0s:5, moz:12, translateY:30, current:3, 3s:15, ease:15, initial:5, cEtc:3, 1858px:1, class:1, translateX:5, asian201:56, 5a32ff:1, slot:34, asian:4, 18080:4, asiangame:3, dday:7, HelveticaNeue:3, Medium:1, 8:3, 3B35CE:1, arr:2, 381px:1, vod:2, sms:2, games:2, 7A63FF:1, 149px:1, medal:31, 5344:1, 372px:1, 0:2, 218px:1, 주요:2, 서비스:6, 바로가기:9, 오늘:6, 정보:8, 미디:3, 실:4, 이슈:4, 멀티미디:2, 블로:5, 유익:2, 쇼핑:4, 포토:5, amp:2, 영상:20, 웹:1, 접근성:1, 안내:1, 자동실행:1, 광고:1, 설정:1, 검색:11, 통합:2, 한글입력기:1, 인기:1, 차인표:1, 트라우마:1, 에어부산:1, 회항:1, 아이린:1, 양세찬:1, 무청시래기:1, 파는:1, 곳:1, 신지애:1, 우승:1, 이민정:6, 이병헌:6, 대:2, 국민투표:2, 송윤:1, 특별출연:1, 침실러:1, 추천:1, 정현:1, 니시코리:1, lt:5, 이전:7, gt:5, 시작페이지:1, 카페:3, 메:2, 뉴스:4, 지도:2, 증권:1, 카카오TV:3, 웹툰:3, 브런치:3, 사전:2, 게임:3, 별플레:1, 같이가치:3, 주요서비스:1, 더보기:2, ⋁:1, 전체:5, 커뮤니케이션:1, 티스토리:2, 아지트:1, 카카오스토리:2, 스포츠:4, 연:2, 아고:1, 생활:1, 쇼핑하우:1, 항공권신규업데이트:1, 금융:1, 부동산:2, 자동차:2, 미즈:2, 문화:1, 엔터:1, 영화:2, 소셜임팩트:1, 메이커스:1, 지식:1, 어학사전:1, 번역:1, 단어장:1, 백과사전:1, 팁:1, 배틀그라운드:1, 검은사막:1, 길찾기:1, 로드뷰:1, 버스정보:1, 지하철노선도:1, 카카:2, 소식:1, AI:1, 전체보기:2, 메뉴닫기:1, 날씨:21, 서울시:1, 안개:8, 4도:2, 4°C:2, 경기도:1, 5도:4, 5°C:4, 인천시:2, 흐림:3, 6도:3, 6°C:3, 대구시:1, 대전시:1, 광주시:1, 부산시:1, 구름:1, 7도:1, 7°C:1, 울산시:1, 구름많음:1, 8도:4, 8°C:4, 경상북도:2, 맑음:6, 강원도:2, 2도:1, 2°C:1, 충청북도:1, 전라북도:1, 전라남도:2, 9도:1, 9°C:1, 10도:1, 10°C:1, 제주자치도:1, 11도:1, 11°C:1, 1도:1, 1°C:1, 경상남도:1, 날찌정보:1, 889:1, 펼치기:1, 현재:7, 지역:1, 어제보다:1, °C:1, 상세보기:1, 미세먼지:1, 통합대기:1, X:1, 날씨정보:1, 닫기:1, 선택됨:1, 1탭:1, 이집트:1, 룩소르서:1, 3천여년전:1, 고대:1, 무덤:1, 공개:1, 슈퍼맨:2, 아침:1, 패션쇼:2, 나은:1, 일반뉴스:1, EU:1, 영국:1, 브렉시트:1, 협상:1, 일단락:1, 남은:1, 숙제는:1, 끼어들었다고:1, 2km:1, 쫓아:1, 급정거:1, middot:1, 욕설:1, 특수협박:1, 유죄:1, 교통사고:1, 6건:1, 중:1, 1건은:1, 도:2, 외:1, 구역:1, 대인사고:1, 비중:1, 4배:1, uarr:19, 오픈마켓서:1, 롱패딩:1, 샀는데:2, 짝퉁:1, 피해:1, 구:1, 소극적:1, 탐사선:1, 인사이트:1, 27:1, 새벽:1, 화성으:1, 착륙장면:1, 중계:1, 올림픽:1, 국호:1, 부결:1, 중국은:2, 환:1, 대검:1, 진상조사단:1, quot:8, 라응찬:1, 前:1, 신한금융:1, 회장:1, 무고죄:1, 수사해:1, SNS:1, 홍보:1, 믿고:1, 불법:1, 판치는:1, 마켓:1, 대출:1, 갈아타기:1, 어려워:1, 커지는:1, 부담:1, 한숨:1, 휘문고:1, 재단:1, 이사장:1, 임대업체:1, 대표:1, 개:1, 거래:1, 의혹도:1, 집사부:1, 철학:1, 깊은:1, 김수미표:1, 영정사진:1, 오승환:1, 사인회도:1, 밝은:1, 얼굴:1, 이정은:1, 마지막:1, 홀:1, 짜릿:1, 칩:1, 버디:1, 마무:1, 뉴스홈:1, 연재:1, 랭킹:1, TV:2, KT아현지:1, 화재:1, 탭:16, 1위:5, 2위:5, 3위:5, 한규설:5, 4위:5, 임원희:5, 5위:5, 임실:5, 6위:5, 프리스트:5, 7위:5, 신동엽:5, 8위:5, 미운:5, 새끼:5, 9위:5, 안정훈:5, 10위:5, 이런:5, 증시:2, 휘발유:1, 52:1, 966:1, 전일대비:2, 하락:1, 달러환율:1, 13:1, 965:1, 상승:5, 관련:1, 링크모음:1, 환율:1, 운세:1, 우리:5, 상승5:6, 신규진입:2, 상승25:2, 상승15:2, 상승14:2, 상승58:2, 19기준:1, X닫기:1, TV하이라이트:2, 소름끼치는:2, 상황:2, 명장면:2, 외국인들:2, 방송:2, 전지적:1, 참견:1, 시점:1, 동영상:16, 이:1, 녀석:1, 고기:1, 먹어봤군:1, 8인분:1, 받고:1, 돌아왔다:1, 5개:1, 국:1, 문제없나는:1, 외국:1, 선:1, 삼촌:1, 녹이는:1, SKY:1, 캐슬:1, 김정난:1, 충격적:1, 죽음:1, 봉안묘:1, 앞:1, 나타난:1, 더:1, 팬:1, 비비:1, 출:1, 없는:1, 매력으:1, 관객:1, 들었다:1, 놓는:1, 자신감:1, 부부:1, 끌고:1, 다니던:1, 유모차:1, 비밀:1, 극도:1, 공포감으:1, 몰아넣었던:1, 형벌도:1, 한국:1, 일어난:1, 총기:1, 위협:1, 미행:1, 사건:1, 꿈:1, 나온:2, 형상:1, 쫓아냈더니:1, 현지해설:1, 모두:1, 예상:1, 뒤엎는:1, 득점:1, 챔피언스트로피서:1, 환상적:1, 샷이글:1, 엄청난:1, 피니시:1, 라이트:1, 한방:1, 녹다운:1, 베트남:1, 하노이:1, 펄럭이는:1, 태극기:1, 대박:1, 한정판:1, 커피:1, 맛:1, 콜라:1, 있다던데:1, 상다리:1, 부러지는:1, 한정식:1, 먹어봤더니:1, 초코파:1, 처음:2, 먹은:1, 스페:1, 남자:1, 반:1, 중국인들:1, 한국식:1, 짜장면:1, 맛본:1, 결:1, 편의점:1, 알바하는데:1, 손님:1, 본죽:1, 찾음:1, 도탁스:2, DOTAX:2, 제:2, 지내는:1, 이과생:1, 모기장:1, 본:1, 고양:1, 색연필:1, 그린:1, 그림:1, 차량:1, 도난:1, 방지:1, 시스템:1, GIF:1, 서울:1, 있는:1, 호그와트:1, 가는:1, 정거장:1, 미군:1, 근력:1, 테스트:1, 요즘:1, 가루약:1, 봉지:1, jpg:2, 홈:1, 쿠킹:1, 머니:1, 동물:1, 스타:2, 블록버스터급:1, 화려함:1, 홀리데:1, 컬렉션:1, feat:1, 백화점브랜드:1, 뷰티쏘식:1, 김태리:1, 퍼:1, 코트:1, 미니백:1, 새로운:1, 스타일링:1, 머니투데:1, 만:1, 복귀:1, 명불허전:1, 단발여신:1, 헤어핏:1, 빅토리:1, 베컴:1, 성공:1, 디자이너:1, 규칙:1, 35계명:1, 패션엔:1, 스타vs스타:1, 헤어스타:1, 비주얼다이브:1, 짧은:1, 땀:1, 나게:1, 해주는:1, 운동:1, 3가지:1, 파이베트:1, 베스트:1, 워킹맘:1, 한의사는:1, 폭탄선언:1, 했을까:1, 두산家:1, 입성:1, 조수애:1, 아나운서:1, 패션:2, 돌체앤가바:1, 똥:1, 나:1, 파문:1, 중국:1, 취소:1, 진재:1, 올:1, 블랙:1, 패션으:1, 자랑:1, 군살:1, 몸:1, H:1, O:1, T:1, 다이어트:2, 결심:1, 가:1, 연예인들:1, 많:1, 방법:1, 메건:1, 마클:1, 케이트:1, 미들턴:1, 약속했:1, 같은날:1, 버건디룩:1, 배틀:1, Men:1, 여행맛집:1, 직장IN:1, 뮤직:1, 보기:4, 추천갤러리바로가기:2, 이미지:2, 목록:2, 공지사항:1, 내정보:1, 외부:1, 연결:1, 종료:1, 다음:1, 소개:1, 약관:1, 회사소개:1, 광고안내:1, 검색등록:1, 제휴문:1, 인재채용:1, 서비스약관:1, 청소년보호정책:1, 개인정보처리방침:1, 웹접근성안내:1, 고객센터:1, Copyright:1, ©:1, Kakao:1, Corp:1, All:1, rights:1, reserved:1, }\n"
     ]
    }
   ],
   "source": [
    "#문제9\n",
    "import requests\n",
    "import string\n",
    "import codecs\n",
    "import pickle\n",
    "\n",
    "\n",
    "req = requests.get('http://www.daum.net')\n",
    "\n",
    "source = req.text\n",
    "with codecs.open('www.daum.net.html','w',\"utf-8\")as f:\n",
    "    f.write(source)\n",
    "while source.find('<')!= -1:\n",
    "    if(source[source.find('<')+1:source.find('>')]==\"style\"or source[source.find('<')+1:source.find('>')]==\"script\"):\n",
    "        source1=source[:source.find('<')]\n",
    "        soruce=source[source.find('<')+1:]\n",
    "        source=source1+source[source.find('<', source.find('>'))+1:]\n",
    "    else :\n",
    "        source=source[:source.find('<')]+source[source.find('>', source.find('<'))+1:]\n",
    "\n",
    "print(len(source.split()))\n",
    "words=source.split()\n",
    "s=' '.join(words)\n",
    "words=list(s)\n",
    "for i in range(len(words)):\n",
    "    for k in range(len(string.punctuation)):\n",
    "        if(words[i]==string.punctuation[k]):\n",
    "            words[i]=' '\n",
    "words=''.join(words)\n",
    "words=words.split()\n",
    "with codecs.open('Stopwords1.txt','r',\"utf-8\")as f:\n",
    "    s=f.readlines()\n",
    "    s=''.join(s)\n",
    "    s=s.split()\n",
    "    for i in words:\n",
    "        for j in s:\n",
    "            if(i==j):\n",
    "                words[words.index(i)]=''\n",
    "                break\n",
    "words=' '.join(words)\n",
    "words=words.split()\n",
    "with codecs.open('Stopwords2.txt','r',\"utf-8\")as f:\n",
    "    s=f.readlines()\n",
    "    s=''.join(s)\n",
    "    s=s.split()\n",
    "    for i in words:\n",
    "        for j in s:\n",
    "            if(i.find(j)!=-1):\n",
    "                if(i.endswith(j)==True):\n",
    "                    words[words.index(i)]=i[:i.find(j)]      \n",
    "                    break\n",
    "                elif(i==j):\n",
    "                    words[words.index(i)]=''\n",
    "                    break\n",
    "words=' '.join(words)\n",
    "words=words.split()\n",
    "\n",
    "count=dict()\n",
    "for d in words:\n",
    "    if d not in count:\n",
    "        count[d]=1\n",
    "    else:\n",
    "        count[d]+=1\n",
    "key=list(count.keys())\n",
    "value=list(count.values())\n",
    "\n",
    "with open('www.daum.net.words_frequency.pickle','wb')as f:\n",
    "    pickle.dump(count,f)\n",
    "print('{',end='')\n",
    "for i in range(len(key)):\n",
    "    print(\"%s:%d\"%(key[i],value[i]),end=', ' ),\n",
    "print('}')"
   ]
  },
  {
   "cell_type": "code",
   "execution_count": 14,
   "metadata": {},
   "outputs": [
    {
     "name": "stdout",
     "output_type": "stream",
     "text": [
      "4584\n"
     ]
    },
    {
     "name": "stdout",
     "output_type": "stream",
     "text": [
      "{Breaking:1, News:6, World:5, Multimedia:1, The:40, New:23, York:14, Times:15, script:19, window:96, swgUserInfoXhrObject:12, XMLHttpRequest:2, NYT:11, ENVIRONMENT:2, prd:2, RELEASE:2, 4c:1, JKIDD:1, PATH:3, https:287, nytimes:42, com:290, svc:2, nyt:340, data:9, layer:1, WEDDINGS:1, content:38, api:1, GDPR:1, central:1, wfvi:1, cloudfunctions:1, net:3, gdpr:6, email:1, form:1, SENTRY:1, SAMPLE:1, RATE:1, EXPERIMENTAL:1, ROUTE:1, PREFIX:1, document:31, domain:2, location:7, search:2, indexOf:4, nytapp:1, true:432, documentElement:2, classList:1, add:1, NYTApp:3, var:75, NYTD:23, PageViewId:9, update:2, function:60, current:6, xxxxxxxx:1, xxxx:1, 4xxx:1, yxxx:1, xxxxxxxxxxxx:1, replace:1, xy:1, const:2, Math:7, random:2, 0x:2, return:44, toString:4, Abra:10, strict:1, null:74, length:3, 42949:1, 151850024:1, 88245:1, 15356:1, init:5, cookie:8, match:10, ab:4, RegExp:3, abra:2, exec:2, throw:1, Error:4, twice:1, decodeURIComponent:1, split:3, typeof:4, testCookie:9, undefined:5, name:239, dfp:4, home:14, toggle:6, block:72, gptScript:4, createElement:9, async:6, src:12, www:2, googletagservices:1, tag:3, js:10, gpt:2, head:3, appendChild:8, googletag:21, cmd:6, push:7, pubads:6, setRequestNonPersonalizedAds:1, medianet:2, readCookie:4, Allows:2, media:172, user:5, EEA:1, prebid:2, testing:4, vi:10, header:1, mediaScript:1, cid:1, 8CU2553YN:2, innerWidth:2, mediaNetCID:1, amazon:2, a:5, A:10, Q:2, arguments:2, fetchBids:1, setDisplayBids:1, targetingKeys:1, getElementsByTagName:1, parentNode:2, insertBefore:1, apstag:3, adsystem:1, aax:1, pubID:1, adServer:1, params:1, si:1, section:24, none:87, index:10, indexScript:4, sec:1, indexww:1, ht:1, 18376:1, DFP:2, prioritize:3, top:87, T:2, noop:3, noopArr:3, performance:32, mark:9, measure:8, getEntriesByName:8, getEntriesByType:2, ADF:3, trackEvent:6, module:7, action:6, ad:1, impression:2, Object:2, keys:2, forEach:4, img:9, et:4, pixel:4, url:273, encodeURIComponent:2, href:8, referrer:7, subject:3, interactions:3, page:6, view:4, id:1558, moduleData:3, JSON:3, stringify:2, sourceApp:3, instant:3, Date:7, style:16, cssText:2, position:52, absolute:16, left:54, 1000px:4, body:6, getDeviceType:2, SMARTPHONE:2, smartphone:6, TABLET:2, tablet:2, DESKTOP:2, desktop:12, matchMedia:2, min:180, width:486, 740px:80, matches:2, 1150px:27, getAbraDfpVariants:2, getAttribute:1, reduce:1, toLowerCase:7, getSub:2, demographics:3, emailSubscriptions:1, bundleSubscriptions:1, sub:4, reg:1, em:1, wat:3, bundle:2, source:6, subsrc:1, promotion:3, subprm:1, grace:3, getUserInfo:2, userInfoXhrObject:3, responseText:4, parse:1, userInfo:2, getViewport:2, medium:1, getTargeting:2, anon:1, gdprUser:1, noTracking:1, pathname:1, topref:1, aid:1, vp:1, defineAd:2, defineSlot:1, timeDefined:2, responseStart:5, pop:5, eventName:5, moduleDetail:5, round:5, duration:6, callAd:2, timing:3, setTargeting:4, request:1, time:6, display:235, timeCalled:5, createTopAd:2, sizeMapping:1, addSize:3, 97:3, fluid:3, 72:4, 25:3, 160:2, build:1, defineSizeMapping:1, addService:1, enableServices:1, addEventListener:6, slotRenderEnded:1, slot:3, getSlotElementId:3, timeRendered:2, isEmpty:1, getElementById:3, bind:5, slotOnload:1, timeLoaded:2, impressionViewable:1, timeViewed:2, topAdRefresh:1, refresh:2, detail:1, div:2, beta:2, vqwdtftx:1, pos:1, sov:1, test:4, projectvi:1, ver:1, typ:2, hp:3, plat:3, web:52, als:4, 154:2, prop:3, edn:3, gscat:2, gs:30, entertain:8, science:12, politics:8, misc:8, environ:4, space:26, food:4, books:8, gv:4, safe:4, 2939023:1, homepage:1, ads:1, beforeunload:1, preventDefault:1, measureExit:2, try:5, exit:3, event:7, visit:2, catch:5, err:15, console:2, error:2, etUrl:2, 7B:2, 22module:2, 3A:8, 22nyt:2, 2C:6, 22eventName:2, 22Impression:4, 22action:2, 22mData:1, 7D:2, sendBeacon:2, navigator:2, css:555, 6n7j5:2, inline:34, 1kj7lfb:3, 1024px:47, margin:139, 7px:25, 10m9xeu:2, 16px:11, height:353, 10klw3m:2, 1hyfx7x:2, 1gz70xg:2, border:96, 1px:97, solid:46, ccc:7, color:126, 32689:7, 12px:13, 8px:29, padding:173, 9e9ivx:5, font:182, size:107, 10px:23, auto:26, text:79, transform:85, uppercase:14, hasLinks:3, 20px:14, 2bwtzy:3, 6px:11, 4px:15, bottom:119, radius:13, 3px:30, webkit:275, transition:47, background:63, 6s:40, ease:43, hover:27, f:21, 8pe5zk:3, align:67, center:58, 5wt1bj:2, letter:156, spacing:156, 03em:4, moz:61, ms:165, 2px:66, 1vlye7:3, family:49, franklin:32, helvetica:16, arial:16, sans:18, serif:21, weight:40, child:107, lm4ytz:2, ogiugu:4, stscvm:3, 15px:64, 158f1cv:2, 1vxc2sl:2, items:20, box:49, flex:248, flexbox:26, pack:24, justify:28, 5px:72, cwdrld:2, 75rem:11, line:60, 1rem:12, 1wjnrbv:4, vertical:7, middle:5, focus:12, wcsx9o:2, 14px:34, 17px:4, 1hd1ne:2, fff:20, 1k9ek9:2, vz7hjd:2, clip:6, rect:4, overflow:9, hidden:12, 1fe7a5q:2, 1rn5q1r:13, cursor:19, pointer:12, transparent:9, 11px:18, 02em:20, 9px:24, 44px:4, active:11, visible:1, inner:7, focusring:7, outline:7, dotted:7, disabled:14, opacity:34, default:9, 112px:4, 10488qs:3, relative:20, wu78io:2, fixed:4, 120px:2, kp204g:2, shadow:2, 0px:6, rgba:1, translateY:15, 70px:3, 5s:2, cubic:2, bezier:2, 1llhclm:2, max:17, 1200px:5, white:10, nowrap:3, 1iruc8t:2, list:9, 1ropbjl:5, e:31, print:17, uw59u:4, jxzr5i:2, flow:3, row:7, oylsik:2, 184px:1, qtw1:3, v0l3hm:3, g4gku:2, 600px:3, 1rr4qq:2, 6xhk3s:2, rxqrcl:2, 13px:14, 25px:16, 150px:4, tj0ten:3, ist4u:4, 1gprdgz:2, columns:4, 10t7hia:5, 34px:5, type:780, mzqdl:2, decoration:21, capitalize:5, kwpx3:4, 23px:2, underline:8, dark:3, 1k2cjfc:4, 1vhk1ks:4, 21px:2, 6td9kr:2, r:2, 15uy5yv:2, ebebeb:4, 1p8nkc:3, zjzyr:2, f7f7f:3, keyframes:18, animation:18, 1m9j9gf:3, 1egl8em:3, translate3d:12, sqdgy:2, 191iepd:2, 1b9egsl:3, rotate:30, 20deg:6, 380deg:6, f8wsfj:3, mhvv8m:3, 1waixk:6, 36px:5, 1605px:1, l2ztic:12, visibility:2, 19lv58h:10, appearance:3, button:3, mgtjo:11, activeSearchButton:1, nhjhh:4, 189px:2, 26px:5, 225px:2, 31px:5, 195px:1, 1bnxwmn:9, 6288a:2, 05em:8, 1i8g3m:13, 1uqjmks:4, 1nkps6a:2, mn5hq:3, 04rem:4, accordionExpanded:1, b:7, 1mahq3m:6, 1ho5u4o:3, 13o0c9t:3, 35px:1, 1yo489b:6, 1kz2g4o:2, e4gm3y:3, omcqsq:2, 1nl6p6m:3, 1xaqcky:2, 6p6lnl:3, geek6:2, start:16, 180b3ld:2, 1ee8y2t:3, 7xxagk:3, 30px:5, 7y3qfv:3, avqkzc:3, double:2, xxhlrr:3, stretch:4, 18bs8bj:8, 1om4z5c:2, 1y8l3jc:5, 7utnqv:4, 1hesgbm:3, 1ycuf8a:10, 71px:3, nth:23, direction:9, column:37, unset:6, c7fqqs:4, svg:2, z49qw:39, b6wrwh:33, wrap:14, calc:7, 58px:2, 3n:13, count:2, gap:4, 29px:2, break:10, inside:4, avoid:5, 717c4s:2, basis:66, preferred:33, 1yuan6h:2, zygc9n:5, supports:6, grid:16, template:11, 17fr:1, 4fr:1, 40px:6, table:3, layout:3, inherit:3, 2fr:1, 1fr:2, rows:1, k2t2rg:7, cell:1, span:3, ie51lk:5, 1qo9wc:4, 875rem:11, 1vv8nt:2, 2ejkui:2, rpp:2, 100vw:1, 50vw:2, ftxgwe:3, 1d8a29:3, 60px:2, ahe4g:4, qo6pn:4, 8xdxq:6, fill:1, black:3, pbg2l:4, 1fhe54b:10, 1rl68kf:6, 42px:3, bpgv3s:4, bfvq:3, 118ydgp:4, 430px:1, 1q91fy:4, 18px:8, 1fhmlkv:3, 18fz8oq:3, 1d537rb:3, float:2, shrink:6, negative:3, figure:1, 55px:2, 1g8bx4t:3, 1g66:2, 8oysku:2, crv7ll:4, 8125rem:10, esl8:2, 3125rem:2, 5z5voo:3, 125rem:3, cheltenham:13, 25rem:3, assetWrapper:7, gs67ux:5, imperial:4, 375rem:4, normal:3, 1875rem:6, 9375rem:3, rlo25n:3, qnorfr:6, ki19g:5, w4yrtc:2, 217px:3, 20:9, qvz0vj:2, 1aew2eb:9, 1j836f:4, uvinwh:3, 4375rem:2, smoothing:16, antialiased:7, osx:8, grayscale:7, 1rrs2s:9, li:5, 194w6rb:4, na047m:3, 0625rem:1, self:3, item:1, pre:1, newsStatus:29, zmmks:11, 403px:3, 38:8, ws8:12, 248px:6, 1i96a1m:5, 625rem:9, word:6, 6875rem:2, false:346, credit:31, 778gjy:12, 155px:6, 13:21, x6ko9e:3, 1pfq5u:4, g0s8ta:5, sticky:8, h:4, 7:57, static:6, 22px:2, nmg09:11, ras79q:5, 1ftry2c:12, 38z6u:4, 16zqnro:3, vka1ov:4, o5uqvq:2, 7douaa:11, ll86ln:2, a19d9d:1, 1pygo6t:4, 45px:4, 60xrh:4, 1jot0f:4, 1smnt6x:3, 3fndiw:4, j07wu:2, djiuqn:2, 200ms:3, g7rb:3, scale:13, 90deg:6, m6999o:3, 360deg:6, origin:7, pwtn0q:11, 1ygu6hu:2, m7655i:6, 3w1yun:3, 1q1yk1:3, emotion:1, 1xdhyk:1, to3u:1, 1qj0wac:1, fontManifest:1, rest:1, supportsWoff:2, FontFace:2, application:2, woff:4, base6:1, d09GMgABAAAAAADcAAoAAAAAAggAAACWAAEAAAAAAAAAAAAAAAAAAAAAAAAAAAAABk4ALAoUNAE2AiQDCAsGAAQgBSAHIBtvAcieB3aD8wURQ:1, TZazbRE9HvF5vde4KCYGhiCgq:1, NKPF0i6UIsZynbP:1, Xi9Ng:1, XLbNlmNz:1, xIBBqq61FIQRJhC:1, QA:1, 08PJQJ3sK5TZFMlWzC:1, iK5GUN40psgqvxwBjBOg6JUSJ7ewyKE2AAaXZrfUB4v:1, hze37ugJ9d:1, DeYqiDwVgCawviwVFGnuttkLqIMGivmDg:1, format:3, load:2, status:5, loading:1, loaded:1, addFontFace:2, fontFace:2, createTextNode:1, querySelector:1, fetchFontFace:1, hash:2, hashName:2, fontName:2, xhr:8, GET:1, onreadystatechange:1, readyState:1, localStorage:9, setItem:4, fontFormat:6, send:2, loadFonts:1, bundles:1, getItem:3, timezone:1, AUTH:2, HOST:2, myaccount:1, SWG:5, PUBLICATION:2, ID:2, checkSwgResponse:2, swgAbort:10, reason:2, log:1, aborted:2, Event:1, dispatchEvent:1, abort:1, checkSwgOptOut:2, opt:5, swgOptOut:3, expiry:2, parseInt:1, getTime:3, twentyFourHours:2, difference:2, swgDataLayer:2, dataLayer:4, loginWithGoogle:2, server:1, check:4, S:14, set:2, deferred:2, swg:13, object:1, entitlenments:1, getEntitlements:1, ent:7, entitlements:7, googleEntitlement:3, google:2, raw:2, payload:2, subscription:1, token:3, subscriptionToken:1, withCredentials:1, POST:1, account:2, auth:1, v:138, login:2, setRequestHeader:1, Content:1, Type:1, json:67, onload:3, switch:1, handled:1, network:1, getUser:1, observerable:1, context:2, Seamless:2, label:1, Signin:1, region:2, reload:1, creation:1, swgDeferredAccount:1, don:2, fail:2, silently:4, else:4, 1:294, news:3, setAttribute:2, subscriptions:1, control:4, manual:1, onerror:1, SectionsSEARCHSkip:1, contentSkip:1, site:1, indexEnglishEspañol中文:1, Chinese:1, SubscribeLog:1, InLog:1, InToday’s:1, PaperWorldU:1, PoliticsN:2, Y:4, BusinessOpinionTechScienceHealthSportsArtsBooksStyleFoodTravelMagazineT:2, MagazineReal:2, EstateVideoWorldU:1, EstateVideoSign:1, Up:2, ‘Five:2, Weeknight:2, Dishes’After:1, feast:2, dinner:2, fast:3, simple:3, Play:3, Spelling:2, BeePuzzle:1, throughout:2, day:3, words:2, Neediest:3, Cases:3, FundHe:1, lost:2, pounds:3, life:2, track:2, Climate:7, ChangeThe:1, Needs:3, Quit:3, Coal:9, Why:3, Is:12, It:10, So:3, Hard:3, polluting:3, energy:5, sources:3, led:2, planet:4, brink:2, catastrophic:2, climate:7, change:3, Yet:3, Paris:4, agreement:4, leaders:3, promised:3, decisive:3, sign:3, disappearing:3, An:3, pit:2, mine:2, Burdwan:2, West:4, Bengal:2, India:4, single:2, largest:2, electricity:2, worldwide:2, Rebecca:2, Conway:2, TimesPalm:1, oil:7, supposed:2, help:2, save:2, Instead:3, unleashed:2, catastrophe:3, U:11, report:32, warned:2, environmental:3, damage:2, shrinking:2, economy:5, K:10, E:5, Leaders:3, Cinch:3, Brexit:5, Divorce:3, TermsPrime:1, Minister:2, Theresa:3, May:3, Britain:3, obtained:2, approval:2, European:2, Union:3, formal:2, divorce:2, pact:2, bloc:2, settlement:3, pass:3, parliamentary:3, votes:3, leaves:3, deep:3, uncertainties:3, Britain’s:3, future:3, Southern:2, Democrats:6, Who:5, Speak:2, Boldly:3, Risk:3, Alienating:3, Rural:3, White:3, VotersAfter:1, losses:2, Florida:2, Georgia:2, Texas:2, conundrum:2, Appealing:2, progressives:2, comes:2, cost:2, rural:2, voters:3, decide:2, elections:3, Mike:5, Espy:5, Democratic:3, nominee:3, campaign:2, snatch:2, Senate:4, seat:2, Mississippi:4, choose:3, demographic:2, satisfy:2, Marijuana:4, Legalization:3, Threatens:3, These:4, Dogs:5, CollarsDrug:1, sniffing:3, dogs:4, trained:5, detect:3, marijuana:3, complicating:3, searches:3, pot:3, legalized:3, That’s:3, forcing:3, retirement:3, Tulo:2, quot:2, behavior:2, drug:2, they’ve:2, Tommy:2, Klein:2, police:3, chief:6, Rifle:2, Colo:2, Ryan:2, David:2, Brown:2, TimesYour:1, Weekend:5, Our:5, Best:3, ReadsMacy’s:1, Thanksgiving:2, Day:2, parade:2, Working:2, female:2, Notable:2, And:3, Chess:3, cool:2, Norway:3, It’s:3, Week:3, Good:3, OpinionRuth:1, WhippmanEverything:1, Sale:3, Now:4, Even:3, Us:3, constant:3, pressure:2, sell:2, ourselves:2, platform:3, produced:2, own:2, brand:2, modern:2, anxiety:3, Editorial:2, BoardThe:1, Radicalization:3, InternetJihadists:1, wing:2, extremists:2, remarkably:2, similar:2, social:3, strategies:2, Jennifer:2, SeniorSheryl:1, Sandberg:8, Can’t:2, Have:6, AllS:1, Matthew:2, LiaoDo:1, You:5, Moral:3, Duty:3, Leave:3, Facebook:12, Nicholas:2, KristofTrying:1, Fight:3, Not:3, Spread:3, Fear:6, LiesRoss:1, DouthatThe:1, Two:3, Emperor:3, ProblemPamela:1, DruckermanThe:1, Woman:3, Still:3, Finds:3, Louis:5, C:7, Lovable:3, Jessa:2, CrispinMarrying:1, Him:3, Was:4, Political:3, Sponsoring:3, His:3, Visa:3, Love:4, Peter:2, SudermanRed:1, Dead:3, Redemption:3, True:2, ArtKara:1, SwisherLean:1, Out:3, Andrea:3, Long:3, ChuMy:1, Vagina:4, Won’t:3, Make:3, Me:3, HappyEditors:1, PicksHow:1, Land:5, MarsOn:1, Monday:2, NASA’s:2, InSight:3, spacecraft:2, land:57, Mars:6, This:2, scientists:2, expect:2, happen:2, ScienceReal:1, People:3, Eat:3, QuicheBuild:1, cathedral:2, deliciousness:2, stone:4, MagazineSunday:1, Book:3, Review:4, Piano:2, TrioWe:1, look:2, lives:2, composers:2, Debussy:2, Schumann:2, Chopin:2, We’d:1, experience:1, Let:1, Site:1, Indexnewshome:1, pageworldU:2, politicsNew:2, Yorkbusinesstechscienceclimatesportsobituariesthe:2, upshottoday:2, x2:6, papercorrectionsopiniontoday:2, opinionop:2, ed:4, columnistseditorialsop:2, Contributorsletterssunday:2, reviewvideo:2, opinionartstoday:2, artsart:2, amp:5, designbooksdancemoviesmusictelevisiontheaterwatchingvideo:2, artslivingautomobilescrosswordfoodCookingeducationstylehealthjobsmagazinereal:2, estatet:2, magazinetravelweddingslistings:1, moreReader:1, CenterWirecutterThe:2, Learning:2, Networktools:2, servicesN:2, events:2, guidemultimediaphotographyvideoNYT:2, storetimes:2, journeysmanage:2, accountnewshome:1, magazinetravelweddingsmoreReader:1, accountSubscribehome:1, deliverydigital:1, subscriptionsCrosswordCookingemail:1, newsletterscorporate:1, subscriptionseducation:1, ratemobile:1, applicationsreplica:1, editionSite:1, Information:1, Navigation©:1, CompanyContact:1, UsWork:1, usAdvertiseYour:1, Ad:1, ChoicesPrivacyTerms:1, ServiceTerms:1, SaleSite:1, MapHelpHelpSubscriptions:1, preloadedData:1, initialState:1, Program:4, Beta:118, UHJvZ3JhbV9CZXRhOmhvbWU:3, spotlightA:1, generated:743, Block:98, QmxvY2tfQmV:7, typename:1462, spotlightB:1, QmxvY2tfQmV0YTpob21lL3Nwb3RsaWdodA:7, topPrimaryA:1, QmxvY2tfQmV0YTpob21lL3RvcHN0b3JpZXM:19, topSecondaryA:1, MultiListBlock:10, TXVsdGlMaXN0QmxvY2tfQmV0YTpob21lL2JyaWVmaW5n:9, topSecondaryB:1, QmxvY2tfQmV0YTpob21lL29waW5pb2:29, topSecondaryC:1, QmxvY2tfQmV0YTpob21lL2VkaXRvcnNwaWNrcw:13, adTargetingParams:1, clientAdParams:1, AdTargetingParam:28, platweb:2, test154:2, typhp:2, propnyt:2, ednus:2, emotions:3, gscatgs:2, firstLoad:82, AssetsConnection:24, title:8, Alert:2, showSection:8, showTitle:8, dataId:8, u002Falert:1, dataSource:8, u002Flist:12, u002Fscoop:6, u002Fhome:6, alert:1, totalCount:12, edges:58, Spotlight:2, u002Fspotlight:1, breaking:1, Top:1, Stories:1, u002Ftopstories:1, TopStories:1, Package:22, UGFja2FnZTpueXQ6Ly9wYWNrYWdlL2U4Yjc3NzFmLTEzMTItNTAzYS04ODNhLTIxNGQyOGEyMGJlNA:11, promotionalSummary:28, promotionalBullets:28, DEFAULT:28, lastMajorModification:28, 25T:13, 534Z:2, lastModified:28, 201:63, card:128, StandardCard:24, promotionalHeadline:28, oneLine:31, u002F:558, u002Fwww:32, u002Fpackage:2, u002Fclimate:21, pkg:1, cardType:28, STANDARD:12, promotionalMediaEmphasis:28, MEDIUM:23, promotionalMedia:478, Article:732, QXJ0aWNsZTpueXQ6Ly9hcnRpY2xlLzg3Nzg5NmVkLTQxZTYtNTJlNy05NzgwLTgzYTUwM2Y0NWNlNA:44, assetDisplayOptions:12, PackageAssetDisplayOptions:10, assets:4, QXJ0aWNsZTpueXQ6Ly9hcnRpY2xlLzE0OGYyMWM2LWM0ZDUtNWQ3NC1iZTUyLTAwZWZiM2Q5YWMwOA:59, QXJ0aWNsZTpueXQ6Ly9hcnRpY2xlLzYwYTMzYmU1LWE2ZmMtNWE0ZC1hYWVkLTdjOWI1NjM2MmI0Ng:29, Change:4, Image:62, world:1, global:3, warming:3, 24T1:11, 000Z:21, 25T1:5, 631Z:1, Section:100, U2VjdGlvbjpueXQ6Ly9zZWN0aW9uLzhiM2UzNzc5LWZhZGEtNTA2MC04NDE2LWVlNzQ5ZDI4NmIxZQ:4, subsection:23, BulletedCard:8, u002F201:272, u002F2:233, u002Fcoal:1, html:29, BULLET:4, sourceId:24, 10000000621844:1, tone:23, NEWS:7, timesTags:301, filterEmpty:301, Subject:174, Location:30, Person:62, uri:6, u002Farticle:5, u002F877896ed:1, 41e:1, 52e:1, 978:1, 83a503f:1, caption:78, stripHtml:52, TextOnlyDocumentBlock:52, crops:301, renditionNames:301, threeByTwoLargeAt2X:676, threeByTwoSmallAt2X:676, videoLarge:386, largeHorizontalJumbo:390, articleLarge:392, master1:386, square64:390, thumbLarge:420, threeByTwoMediumAt2X:390, ImageCrop:270, ImageRendition:948, images20181125climate25CLI:18, COAL:54, promo25CLI:18, promo:81, jpg:597, u002Fstatic0:240, u002Fimages:240, u002F25CLI:18, renditions:135, 64:52, 102:25, 68:24, 211:1, displayFields:5, summary:5, headline:9, displayName:25, vernacular:139, Global:4, Warming:3, Environment:2, Greenhouse:2, gas:2, Carbon:2, dioxide:1, China:7, Telangana:1, UNFCCC:2, Renewable:2, Vietnam:1, Narendra:1, Modi:1, decade:1, ago:1, mandated:1, vegetable:1, biofuels:1, leading:1, industrial:1, deforestation:1, huge:1, spike:1, carbon:1, emissions:1, 20T1:1, 25T0:1, 591Z:1, U2VjdGlvbjpueXQ6Ly9zZWN0aW9uL2E5MTNkMWZiLTNjZGYtNTU2Yi05YTgxLWYwYjk5NmExYTIwMg:4, Palm:4, Oil:1, Supposed:1, Help:1, Save:1, Planet:1, Unleashed:1, Catastrophe:1, u:9, u002Fmagazine:20, u002Fpalm:1, borneo:1, 10000000621:1, FEATURE:6, Organization:32, u002F148f21c:1, c4d:1, 5d7:1, be5:1, 00efb3d9ac0:1, Magazine:1, Ashley:1, Gilbertson:1, u002FVII:1, remains:1, Indonesian:1, rain:1, forest:1, cleared:1, palms:1, images20181125magazine25mag:36, palmoil:54, slideshow:54, slide:54, Z03125mag:18, Z03:36, png:119, u002F25mag:36, 76:31, 50:25, 204:2, 136:2, Bioenergy:1, Biofuels:1, Wildfires:1, Capture:1, Fuel:1, efficiency:1, Energy:1, Efficiency:1, 9:35, EPA:1, Environmental:1, Defense:1, Fund:3, Salim:1, Group:1, Suharto:1, Henry:1, Waxman:1, Borneo:1, Indonesia:1, Jakarta:1, Malaysia:1, Without:1, major:2, rein:1, American:2, lose:1, percent:2, G:1, D:1, P:1, according:1, federal:2, agencies:1, Damage:1, slash:1, government:1, predicted:1, findings:1, starkest:1, warnings:1, date:3, directly:1, odds:1, President:3, Trump’s:1, agenda:1, deregulation:1, asserts:1, spur:1, economic:3, growth:1, 497Z:1, Report:1, Warns:1, Damaged:1, Shrinking:1, Economy:2, u002Fus:12, MAXIMUM:3, 10000000622994:1, u002F60a33be:1, a6fc:1, 5a4d:1, aaed:1, 7c9b5:1, Justin:1, Sullivan:1, u002FGetty:2, Images:2, Fighting:1, Camp:1, Fire:1, month:3, Magalia:1, Calif:1, images20181124climate24cli:18, 2merlin:18, 14659015:27, 372cbff:27, acb:27, 4bf:27, f9b1c200405d:27, u002F24cli:9, u002Fmerlin:56, 42:2, 74:1, 15:75, US:5, Politics:5, Regulation:1, Deregulation:1, Donald:2, Trump:4, node:25, AssetsEdge:46, Interactive:60, SW50ZXJhY3RpdmU6bnl0Oi8vaW50ZXJhY3RpdmUvMjQ3NjcyZTctZjRiZC01NmU0LWIzODctZjI0ZGZmYWY0NGFj:29, As:1, grew:1, richer:2, assumed:2, political:2, freedoms:4, follow:2, superpower:1, opposite:2, happened:2, 495Z:2, U2VjdGlvbjpueXQ6Ly9zZWN0aW9uLzcwZTg2NWI2LWNjNzAtNTE4MS04NGM5LTgzNjhiM2E1YzM0Yg:4, U2VjdGlvbjpueXQ6Ly9zZWN0aW9uL2I0YzliNWM1LTFmNDYtNTJlNi04MWNkLWMzNjRlYTAxMmFkOA:3, InteractiveCard:2, How:6, Control:3, Your:3, Citizens:2, Opportunity:3, Nationalism:3, u002Finteractive:5, u002Fworld:26, u002Fasia:5, u002Fchina:27, INTERACTIVE:1, EmbeddedInteractive:2, 10000000621522:1, Asia:1, Pacific:1, slug:1, 25chinaculture:1, u003C:20, nTHIS:1, IS:1, GENERATED:1, TEMPLATE:1, FILE:1, DO:1, NOT:1, EDIT:1, u003E:40, u003Cstyle:1, graphic:38, link:8, china:46, thanksgiving:1, cooking:1, kicker:3, Helvetica:2, Arial:2, ec584e:1, container:3, leftrail:2, 8:10, rightrail:11, 5:46, 187:1, screen:3, 739px:2, rgb:1, Gerogia:3, Roman:3, visual:3, 80px:2, player:4, image:68, video:7, 19px:1, mobile:3, prefers:1, reduced:1, motion:1, u002Fstyle:1, u003Cdiv:10, class:16, u003Ca:4, target:1, Rules:1, u002Fdiv:10, u003Cimg:3, culture:56, staticpromo:38, jumbo:1, u003Cvideo:2, autoplay:2, preload:2, playsinline:2, loop:2, muted:2, u002Fint:4, u002Fdata:4, u002Fvideotape:4, u002Ffinished:4, u002F154266667:4, u002Fchinatv:4, promo0:4, 900w:4, mp:2, poster:2, u002Fvideo:2, China’s:1, Rulers:1, Society:1, power:2, u002Fa:4, related:3, u002F1:4, rules:2, main:2, That:1, Failed:1, Fail:1, mobility:1, u002Fthe:2, american:2, drean:2, alive:2, 154241:2, Dream:1, Alive:1, In:1, takeaways:1, Takeaways:1, From:2, Project:1, Pipeline:1, promos:1, November:1, 21:2, 42PM:1, dab590bec27284922bd19ea3781c191206aa2ebc:1, compatibility:1, CreativeWorkHeadline:2, advertisingProperties:3, CreativeWorkAdvertisingProperties:2, displayProperties:3, CreativeWorkDisplayProperties:2, bylines:1, 10000000:2, leadin:1, note:1, u002Fembeddedinteractive:1, u002Fe73a9d3:1, 558c:1, 5b5:1, 8f2:1, 26a28334784:1, sensitivity:1, SHOW:1, ADS:1, displayForPromotionOnly:1, maximumWidth:1, minimumWidth:1, images20181121worldchina:18, staticpromochina:18, feed:1, photojournalism:1, QXJ0aWNsZTpueXQ6Ly9hcnRpY2xlLzBhMDY5ZjY3LTZmYjMtNTMwMi05MzljLWUxNTllN2JmNzFlNg:31, reached:1, summit:1, meeting:1, Sunday:4, Prime:1, 377Z:1, U2VjdGlvbjpueXQ6Ly9zZWN0aW9uLzJmOThiODBkLWVhMjUtNTMxMS05ODk4LTY2ODRiYmJkZDBiYw:3, Terms:2, u002Feurope:1, u002Fbrexit:1, uk:1, eu:1, NONE:2, Europe:1, Simon:1, Dawson:1, u002FBloomberg:1, Anti:1, campaigners:1, outside:1, Houses:1, Parliament:1, London:1, images20181125world25brexit1merlin:14, 7647acdf:21, 0faf:21, 49b:21, 8f5d:21, 2c747bf:21, u002F25brexit:11, images20:8, 266:1, EU:1, Brussels:1, Gibraltar:1, Great:1, QXJ0aWNsZTpueXQ6Ly9hcnRpY2xlLzQ0ODA3Y2UxLWI5ZGQtNWE1NS04ZTQxLTBhNmQ3MzM1MDY1Ng:37, election:3, Tuesday:1, satisfying:1, African:2, Americans:2, liberals:1, driving:1, conservative:1, leaning:1, After:2, 966Z:1, U2VjdGlvbjpueXQ6Ly9zZWN0aW9uL2EzNGQzZDZjLWM3N2YtNTkzMS1iOTUxLTI0MWI0ZTI4NjgxYw:3, U2VjdGlvbjpueXQ6Ly9zZWN0aW9uLzUzMzU4NzM5LTk3MzMtNWRmYi1iNmNmLTZmZGRjNDJjZjgzOQ:3, Voters:2, Across:1, South:1, Speaking:1, u002Fpolitics:10, u002Fsouth:1, race:1, mississippi:1, senate:1, 10000000623037:1, 6:56, Rogelio:1, V:1, Solis:1, u002FAssociated:1, Press:1, Former:1, Representative:1, students:1, Barack:1, H:1, Obama:1, Magnet:1, Elementary:1, School:1, Jackson:1, Miss:1, trying:1, unseat:1, Senator:1, Cindy:2, Hyde:2, Smith:2, Tuesday’s:1, images20181125uspolitics25south:18, printmerlin:14, 1468:21, be74f33b:21, 288f:21, 40d:21, a08b:21, u002F25south:9, print00south:4, u002F00south:2, 672:1, 448:1, Blacks:1, Race:2, Ethnicity:2, Republicans:1, QXJ0aWNsZTpueXQ6Ly9hcnRpY2xlL2UyMGViMDMyLTc2MzMtNTMwOC04N2RkLWZmZTk2NTc5OWJmMQ:29, Drug:3, 274Z:1, U2VjdGlvbjpueXQ6Ly9zZWN0aW9uLzA0MTViMmIwLTUxM2EtNWU3OC04MGRhLTIxYWI3NzBjYjc1Mw:3, Collars:2, u002Fbusiness:10, u002Fmarijuana:1, legalization:1, 10000000622:2, Business:1, images20181121business00DRUGDOGS:18, ledemerlin:4, 14716207:6, 92e57c8c:6, 1a3:6, 442b:6, 23078ca8300:6, u002F00DRUGDOGS:16, lede:30, 84:1, 147:1, lede00DRUGDOGS:14, 48:1, Abuse:1, Dog:1, Pot:1, Weed:1, Judiciary:2, Colorado:1, UGFja2FnZTpueXQ6Ly9wYWNrYWdlLzQ3YTczMzM5LTg1ZmEtNWFmNy1iOWRlLTU3MjU2NmRkNmNmYQ:9, 539Z:2, u002Fweekend:1, reads:56, QXJ0aWNsZTpueXQ6Ly9hcnRpY2xlL2YwODg1ZDAxLTEwZTItNTZiMS1hOTUxLTU5N2NiYTFmNzAwNg:32, QXJ0aWNsZTpueXQ6Ly9hcnRpY2xlL2I0ZDhiY2JhLTU1M2ItNTM5Ny1hODQyLTRjZThjNmU4M2IyNw:19, Macy’s:1, 240Z:1, U2VjdGlvbjpueXQ6Ly9zZWN0aW9uLzZlNmVlMjkyLWI0YmQtNTAwNi1hNjE5LTljZWFiMDM1MjRmMg:3, Reads:2, u002Farts:1, weekend:1, 100000006221:1, u002Ff0885d0:1, 10e:1, 56b:1, a95:1, 597cba1f700:1, images20181124briefing24weekend:18, promo24weekend:18, u002Fbriefing:13, u002F24weekend:18, 133:1, Arts:1, 23andMe:1, Buenos:1, Aires:1, James:1, B:1, Comey:1, Hillary:1, Clinton:1, Rwanda:1, Sometimes:1, we’re:1, living:1, barrage:1, heavy:1, But:2, isn’t:2, bad:1, 22T1:1, 24T2:3, 230Z:1, U2VjdGlvbjpueXQ6Ly9zZWN0aW9uLzVkOWQ0NDZkLTQxYWEtNTAxZC1hNzk4LWU2MTgwOTVmMTBjNw:3, Grammar:1, Table:1, Steven:1, Pinker:1, u00:30, u002Fweek:1, chess:1, norway:1, steven:1, pinker:1, 10000000622901:1, u002Fb4d8bcba:1, 553b:1, 539:1, a84:1, 4ce8c6e83b2:1, Briefing:2, Linda:2, Bournane:1, Engelberth:1, Taking:1, lessons:1, game:3, school:1, program:2, Oslo:1, images20181124sports21norwaychess:18, goodnewsmerlin:4, 1471:6, 25e54c6:6, 4a2d:6, 9b7:6, c06:6, u002Fsports:9, u002F21norwaychess:16, goodnews:9, 482:1, goodnews21norwaychess:14, 475:1, 316:1, Briefings:1, blocks:7, ProgramContentBlockConnection:2, QmxvY2tfQmV0YTpob21lL2JyaWVmaW5nLWxpc3Q:5, u002Ftargeted:1, term:1, material:1, briefing:1, firstPublishedWithin:1, 12h:1, ProgramContentBlockEdge:4, QmxvY2tfQmV0YTpob21lL2JyaWVmaW5nLXV0aWxpdHk:11, utility:3, QXJ0aWNsZTpueXQ6Ly9hcnRpY2xlLzc2NzEwMTI0LThjMzgtNTdkZC04OTY5LWUzOWZiMThmZTgzNQ:19, 23T1:2, 603Z:1, U2VjdGlvbjpueXQ6Ly9zZWN0aW9uLzRmMzc5YjExLTQ0NmItNTdhZS04ZTJhLTBjZmYxMmUwZjI2ZQ:3, Sign:1, Dishes:1, Keep:2, Fast:1, Simple:1, u002Fdining:10, u002Fkeep:1, LegacyCollection:28, TGVnYWN5Q29sbGVjdGlvbjpueXQ6Ly9sZWdhY3ljb2xsZWN0aW9uLzFhYjkwNGUzLWU3ZTMtNTEzYS1iNmEwLWE5MGJkMjRjZWNlZQ:3, 100000006:4, Food:3, Xiao:1, Stylist:1, Monica:1, Pierini:1, images20180926dining26Chickenrex1merlin:14, 14390:21, 689:21, 488:21, 8d5c:21, 5083c94d907b:21, u002F0:25, u002F26Chickenrex:11, Promo:60, UHJvbW86bnl0Oi8vcHJvbW8vNGRiNjI0NDQtYTAwYS01MmU5LWE2YTAtNjYxNzIxNmY3NjZh:19, Puzzle:1, 894Z:2, Bee:1, targetUrl:3, u002Fpuzzles:1, u002Fspelling:15, bee:43, images20181120homepagespelling:14, imagespelling:14, u002Fhomepage:16, 61:4, 41:6, UHJvbW86bnl0Oi8vcHJvbW8vZWZjNzQ1NDItNDJjMi01ODcyLTg4NTctOGZlMTk2MjFlMzk:19, He:1, 153Z:2, u002Fneediest:19, u002Fhes:1, shed:1, hes:1, ready:2, rejoin:1, force:1, images20181105homepageneediest:18, logoneediest:18, logo:36, Opinion:3, u002Fopinion:116, opinion:1, QXJ0aWNsZTpueXQ6Ly9hcnRpY2xlLzI5OTg1OGM4LTBiNzYtNWQ1Yi04NDk5LTI0NTFkYjEyOGU4Mg:29, 145Z:1, U2VjdGlvbjpueXQ6Ly9zZWN0aW9uL2Q3YTcxMTg1LWFhNjAtNTYzNS1iY2UwLTVmYWI3NmM3YzI5Nw:13, U2VjdGlvbjpueXQ6Ly9zZWN0aW9uLzU4Y2E3MTU0LTFiYTUtNWNiMi05ZWE0LTU0ZWJlZjIxMzc5Mg:12, AuthorCard:22, Everything:2, u002Fsunday:37, u002Fgig:1, AUTHOR:11, 10000000621373:1, creators:53, Ruth:1, Whippman:1, 4:81, Tim:1, Enthoven:1, images20181126opinionsunday25whippman25whippman:18, u002F25whippman:18, 114:1, 569:1, Jobs:1, Anxiety:1, Stress:1, Social:5, Media:5, Freelancer:1, QXJ0aWNsZTpueXQ6Ly9hcnRpY2xlLzczMGY3MWMyLTEwMGItNTM0My05ZjI3LTFkZDU1N2NkNTI0Zg:43, Jihadists:1, 473Z:1, Internet:4, u002Ffacebook:2, twitter:1, terrorism:1, extremism:1, OPINION:10, Board:1, Woody:1, Harrington:1, images20181125opinioneditorials15social15social:18, u002Feditorials:9, u002F15social:18, 59:2, 166:1, 110:1, Terrorism:1, Computers:2, Fringe:1, Groups:1, Pittsburgh:1, Pa:1, Shooting:1, Hate:1, crime:1, Antisemitism:1, YouTube:1, Gab:1, QXJ0aWNsZTpueXQ6Ly9hcnRpY2xlL2ZiYWExZTYwLTM2ODQtNTVhZC1iOGFhLWYzN2NmNzI5NjNhZA:37, burdens:1, perils:1, pedestal:1, 287Z:1, Sheryl:7, All:2, Can:1, u002Fsheryl:2, sandberg:2, facebook:2, russia:1, TGVnYWN5Q29sbGVjdGlvbjpueXQ6Ly9sZWdhY3ljb2xsZWN0aW9uLzVkMmIxMDc3LWYzZmYtNTUwMC1hZTdmLWQyOWU2MDIyY2Q4OA:3, Senior:1, Eric:1, Thayer:1, operating:2, officer:3, testifying:1, front:1, Intelligence:1, Committee:1, September:1, images:18, 656:1, images20181026opinionjennifer:2, seniorjennifer:2, senior:4, u002Fjennifer:2, Women:2, Girls:1, rights:1, Feminism:1, QXJ0aWNsZTpueXQ6Ly9hcnRpY2xlLzRiZDhkYmRjLWMyNjctNWFiZi04ZThhLWVlZTA4ZGUyODk2MA:29, disrupt:1, disseminate:1, propaganda:1, promote:1, hate:1, Regular:1, users:1, implicated:1, failings:1, 325Z:1, Do:2, immoral:1, 10000000622772:1, Liao:1, Wenting:1, Li:1, images20181125opinionsunday25liaomerlin:4, 14722656:6, 426d:6, 877:6, d2bf1d22583f:6, u002F25liao:16, 67:1, images20181125opinionsunday25liao25liao:14, 119:2, Philosophy:1, Ethics:1, Misconduct:1, Malfeasance:1, QXJ0aWNsZTpueXQ6Ly9hcnRpY2xlLzJmMTM5NDNmLTNiMTgtNTM5OC1hYTRkLTE5ZThjMjNlZmVmNQ:43, misinformation:1, trap:1, 24T:1, 392Z:1, Trying:2, Lies:2, u002Fmedia:1, midterms:1, trump:2, TGVnYWN5Q29sbGVjdGlvbjpueXQ6Ly9sZWdhY3ljb2xsZWN0aW9uLzk5NGJhZDNmLWU4ZTUtNTczYy1iZjM3LTc4ZTQ1Y2YzYWZkZA:3, Kristof:1, Todd:1, Heisler:1, u002FThe:1, Refugees:1, climbed:1, aboard:1, trucks:1, southern:1, Mexico:1, join:1, caravan:1, headed:1, United:2, States:2, images20181125opinion25KRISTOFmerlin:14, 28ea01da:21, 755:21, 406c:21, b7dc:21, ec4eae1cf12:21, u002F25KRISTOF:11, images20181125opinion25KRISTOF25KRISTOF:4, 57:1, 381:1, images20180403opinionnicholas:2, kristofnicholas:2, kristof:4, u002Fnicholas:2, journalism:1, Russian:1, meddling:1, Vaccines:1, Immunization:1, Rumors:1, Misinformation:1, Cable:1, television:1, Mass:1, Center:1, Development:1, Edward:1, R:1, Murrow:1, QXJ0aWNsZTpueXQ6Ly9hcnRpY2xlLzAxODE3M2M2LTNjN2QtNTQ2Zi1hMzNiLTU4YjBlMTdiODgxNQ:41, What:1, John:2, Roberts:3, reveals:1, Republic:1, 612Z:1, Problem:2, u002Fjohn:1, roberts:1, donald:1, TGVnYWN5Q29sbGVjdGlvbjpueXQ6Ly9sZWdhY3ljb2xsZWN0aW9uL2RiZDhmNTdiLTk4OTUtNTVhYi1iMjQ0LTEzNjNlNzBmMjg5ZA:3, 1000000062295:1, Ross:1, Douthat:1, Jonathan:1, Ernst:1, u002FReuters:2, spoke:1, Supreme:2, Court:2, justice:1, State:1, address:1, January:1, images20181122opinion22douthat22douthat:16, u002F22douthat:17, images20181122opinion22douthat22GREENBERG:2, u002F22GREENBERG:1, 3:37, 263:1, 175:1, images20180403opinionross:2, douthatross:2, douthat:4, u002Fross:2, SCOTUS:1, Justice:1, Constitution:1, Charles:1, Schumer:1, QXJ0aWNsZTpueXQ6Ly9hcnRpY2xlLzQ3ZDQxNDkwLTQ2YjAtNTYzMy04NWRkLTg1NTFlOWRkMTE5Zg:41, French:1, comedian:1, Blanche:2, Gardin:2, taking:1, feminism’s:1, orthodoxies:1, 035Z:1, u002Flouis:1, ck:1, blanche:1, gardin:1, metoo:1, TGVnYWN5Q29sbGVjdGlvbjpueXQ6Ly9sZWdhY3ljb2xsZWN0aW9uLzE1YjZjZTBlLWFhMTAtNTE5ZC1hNzA1LWZmNWUzOTU2MmJhNA:3, 10000000622526:1, Pamela:1, Druckerman:1, 0:62, Benoit:1, Tessier:1, César:1, Awards:1, March:1, wearing:1, pin:1, images20181126opinion25DRUCKERMANmerlin:4, 05f5:6, 258f:6, 455:6, 9e6a:6, u002F25DRUCKERMAN:16, 73:1, images20181126opinion25DRUCKERMAN25DRUCKERMAN:14, 83:2, images20180504opinionpamela:2, druckerman:6, circlepamela:2, circle:4, u002Fpamela:2, MeToo:1, Movement:1, Sexual:1, harassment:1, Actor:1, Comedy:1, Sandra:1, Muller:1, France:1, QXJ0aWNsZTpueXQ6Ly9hcnRpY2xlLzIzOGRlZGViLTgyM2QtNTc2Ni04YWRlLWIwMTZhZTIwNGI2OQ:31, romantic:1, pragmatic:1, green:2, wedding:1, 247Z:1, Marrying:2, u002Fmarriage:1, love:1, immigration:1, 1000000062138:1, 2:30, Crispin:1, Tomi:1, Um:1, images20181125opinionsunday25crispin25crispin:18, u002F25crispin:18, 111:1, 178:1, Marriage:1, Visas:1, Dating:1, Books:1, QXJ0aWNsZTpueXQ6Ly9hcnRpY2xlLzQ3ZTVhMjk5LWI1YmUtNTZjNi1iZjVmLTJiNDIyMjk2NDlkZQ:25, season’s:1, blockbuster:1, TV:1, movie:1, 252Z:1, Red:2, Art:1, Don’t:1, Just:1, Watch:1, Narrative:1, Masterpieces:1, Them:1, u002Fred:1, dead:1, redemption:1, fallout:1, games:1, 10000000622331:1, Keyword:2, Suderman:1, Rockstar:1, Games:2, pulled:1, million:1, days:1, sale:1, images20181125opinion25SUDERMAN25SUDERMAN:18, u002F25SUDERMAN:18, 33:2, 58:1, 107:2, 71:2, Computer:1, Video:1, QXJ0aWNsZTpueXQ6Ly9hcnRpY2xlL2I4YzA3MjIwLWQ3MWEtNWFiNS1iZGUwLWI2MjE2YWUyNDg0Yw:33, Perhaps:1, it’s:1, fair:1, women:1, rise:1, pay:1, price:1, failure:1, forgive:1, runs:1, 553Z:1, Lean:2, zuckerberg:1, TGVnYWN5Q29sbGVjdGlvbjpueXQ6Ly9sZWdhY3ljb2xsZWN0aW9uLzQ3MTUxNjFjLWJlNGMtNWU4Yy1iYmQ5LTY0YjQ4OTRkMzIyYw:3, Kara:1, Swisher:1, Drew:1, Angerer:1, Mark:2, Zuckerberg:2, executive:1, Dan:1, Rose:1, vice:1, president:1, partnerships:1, Sun:1, Valley:1, Idaho:1, July:1, images20181123opinion23swishermerlin:14, 49f4ef5a:21, 79a:21, 458f:21, 98e:21, f44cc2c12b1:21, u002F23swisher:11, images20181123opinion23swisher23swisher:4, 325:1, 216:1, images20180802opinion02swisher02swisher:2, u002F02swisher:2, QXJ0aWNsZTpueXQ6Ly9hcnRpY2xlL2Q5ZjhlNmU1LTE2YzMtNTAyMi1hMzc4LWMyNmVkOTFkYjkzYg:33, shouldn’t:1, 939Z:1, My:2, Happy:2, u002Fvaginoplasty:1, transgender:1, medicine:1, 10000000622304:1, Chu:2, Kholood:1, Eid:1, Brooklyn:1, "
     ]
    },
    {
     "name": "stdout",
     "output_type": "stream",
     "text": [
      "images20181125opinion25CHUmerlin:4, 14721693:6, 6293c4ea:6, 55bd:6, 476b:6, bd0:6, 95cfd7dd832d:6, u002F25CHU:16, images20181125opinion25CHU25CHU:14, Transgender:1, Gender:1, Dysphoria:1, Hormone:1, Surgery:1, Estrogen:1, Medicine:1, Health:1, Editors:1, Picks:1, u002Feditorspicks:1, EditorsPicks:1, featured:1, SW50ZXJhY3RpdmU6bnl0Oi8vaW50ZXJhY3RpdmUvZTU3ZDc5YzQtYmVjNy0:29, On:1, 238Z:2, U2VjdGlvbjpueXQ6Ly9zZWN0aW9uL2ZiMjQxZTE2LWNiZGUtNWQ2MC1iZTZlLTZiY2E5ZTg2YzY5Nw:3, u002Fscience:10, u002Finsight:19, mars:55, 10000000621720:1, Science:1, images20181126scienceinsight:18, 1542761619947insight:18, 1542:36, 207:1, Space:1, Rocket:1, NASA:1, QXJ0aWNsZTpueXQ6Ly9hcnRpY2xlLzlhNTI3YWQ1LWExOTctNTE2YS1iNmM1LTA4NjUyMzJiODNjYg:25, Build:1, 21T1:1, 35:1, 123Z:1, Real:2, Quiche:3, u002Freal:1, people:1, eat:55, quiche:2, TGVnYWN5Q29sbGVjdGlvbjpueXQ6Ly9sZWdhY3ljb2xsZWN0aW9uLzFiMDExOTlkLTgyNTgtNWM5MC04YWJhLTAwY2QwMzMwODRjYQ:3, 100000006215:1, Johnny:1, Miller:1, stylist:2, Maggie:1, Ruggiero:1, Prop:1, Hilary:1, Robertson:1, Silken:1, custard:1, flaky:1, crust:1, Lorraine:1, Gruyère:1, pancetta:1, image125mag:18, 44:1, 77:1, 611:1, 407:1, Cooking:1, Recipe:1, UHJvbW86bnl0Oi8vcHJvbW8vMDU0ODRiZjgtMTIyMi01N2YwLWI3MGUtNzAxYjQ1ODVjN2Fm:19, We:1, 486Z:2, Trio:1, Uprooted:1, u002Fsection:1, u002Fbooks:10, u002Freview:10, João:1, Fazenda:1, images2018112:18, BKS:48, Covermerlin:4, 1467:6, 39c8956c:6, ad6:6, b5d:6, 946c62cce35:6, u002F112:16, Cover:30, 47:1, 82:1, Cover112:14, 525:1, 349:1, key:7, value:7, ROOT:1, QUERY:1, config:2, gqlUrl:1, u002Fsamizdat:1, graphql:1, u002Fgraphql:1, gqlRequestHeaders:1, app:2, project:1, version:1, MIIBIjANBgkqhkiG9w0BAQEFAAOCAQ8AMIIBCgKCAQEAlYOpRoYg5X01qAqNyBDM32EI:1, u002FE77nkFzd2rrVjhdi:1, u002FVAZfBIrPayyYykIIN:1, d5GMImm3wg6CmTTkBo7ixmwd7Xv24QSDpjuX0gQ1eqxOEWZ0FHWZWkh4jfLcwqkgKmfHJuvOctEiE:1, u002FWic5Qrle323SMDKF8sAqClv8VKA8hyrXHbPDAlAaxq3EPOGjJqpHEdWNVg2S0pN62NSmSudT:1, u002Fap:1, u002FBqZf7FqsI2cUxv2mUKzmyy:1, rYwbhd8TRgj1kFprNOaldrluO4dXjubJIY4qEyJY5Dc:1, u002FF03sGED4AiGBPVYtPh8zscG64yJJ9Njs1ReyUCSX4jYmxoZOnO:1, 6GfXE0s2xQIDAQAB:1, continent:1, AS:1, country:1, JP:1, gmt:1, offset:1, gqlFetchTimeout:1, disablePersistedQueries:1, serviceWorkerFile:1, service:1, worker:1, 1542828:1, initialDeviceType:1, abraHomeTest:1, externalAssets:1, exports:5, call:1, webpackJsonp:2, gtm:2, 22pgType:1, 22Homepage:1, 22:3, INSTALL:1, RAVEN:1, includeRaven:2, RavenInstaller:1, raven:1, 830a6d04a55c283934dd1893d6ddc66d:1, eslint:1, disable:1, Install:1, Raven:8, 7bc8bccf5c254286a99b11c68f6bf4ce:1, sentry:1, io:1, 17886:1, release:1, environment:1, ignoreErrors:1, SecurityError:1, Blocked:1, frame:1, install:1, Stop:1, using:1, handler:1, errors:4, ravenInstalled:1, regex:2, Setting:1, setUserContext:1, Pass:2, collected:2, weird:2, maybe:1, instanceof:2, captureException:2, ignore:2, Tags:1, tags:1, setTagsContext:1, }\n"
     ]
    }
   ],
   "source": [
    "#문제8\n",
    "import requests\n",
    "import string\n",
    "import codecs\n",
    "import pickle\n",
    "\n",
    "\n",
    "req = requests.get('http://www.nytimes.com')\n",
    "\n",
    "source = req.text\n",
    "with codecs.open('www.nytimes.com.html','w',\"utf-8\")as f:\n",
    "    f.write(source)\n",
    "while source.find('<')!= -1:\n",
    "    if(source[source.find('<')+1:source.find('>')]==\"style\"or source[source.find('<')+1:source.find('>')]==\"script\"):\n",
    "        source1=source[:source.find('<')]\n",
    "        soruce=source[source.find('<')+1:]\n",
    "        source=source1+source[source.find('<', source.find('>'))+1:]\n",
    "    else :\n",
    "        source=source[:source.find('<')]+source[source.find('>', source.find('<'))+1:]\n",
    "\n",
    "print(len(source.split()))\n",
    "words=source.split()\n",
    "s=' '.join(words)\n",
    "words=list(s)\n",
    "for i in range(len(words)):\n",
    "    for k in range(len(string.punctuation)):\n",
    "        if(words[i]==string.punctuation[k]):\n",
    "            words[i]=' '\n",
    "words=''.join(words)\n",
    "words=words.split()\n",
    "with codecs.open('Stopwords1.txt','r',\"utf-8\")as f:\n",
    "    s=f.readlines()\n",
    "    s=''.join(s)\n",
    "    s=s.split()\n",
    "    for i in words:\n",
    "        for j in s:\n",
    "            if(i==j):\n",
    "                words[words.index(i)]=''\n",
    "                break\n",
    "words=' '.join(words)\n",
    "words=words.split()\n",
    "with codecs.open('Stopwords2.txt','r',\"utf-8\")as f:\n",
    "    s=f.readlines()\n",
    "    s=''.join(s)\n",
    "    s=s.split()\n",
    "    for i in words:\n",
    "        for j in s:\n",
    "            if(i.find(j)!=-1):\n",
    "                if(i.endswith(j)==True):\n",
    "                    words[words.index(i)]=i[:i.find(j)]      \n",
    "                    break\n",
    "                elif(i==j):\n",
    "                    words[words.index(i)]=''\n",
    "                    break\n",
    "words=' '.join(words)\n",
    "words=words.split()\n",
    "\n",
    "count=dict()\n",
    "for d in words:\n",
    "    if d not in count:\n",
    "        count[d]=1\n",
    "    else:\n",
    "        count[d]+=1\n",
    "key=list(count.keys())\n",
    "value=list(count.values())\n",
    "\n",
    "\n",
    "with open('www.nytimes.com.words_frequency.pickle','wb')as f:\n",
    "    pickle.dump(count,f)\n",
    "print('{',end='')\n",
    "for i in range(len(key)):\n",
    "    print(\"%s:%d\"%(key[i],value[i]),end=', ' ),\n",
    "print('}')\n"
   ]
  },
  {
   "cell_type": "code",
   "execution_count": 15,
   "metadata": {
    "scrolled": false
   },
   "outputs": [
    {
     "name": "stdout",
     "output_type": "stream",
     "text": [
      "cse.koreatech : ('1', 61) ('2', 35) ('201', 35) \n",
      "koreatech : ('KOREATECH', 21) ('대학', 17) ('대학원', 10) \n",
      "naver : ('N', 516) ('name', 364) ('null', 293) \n",
      "daum : ('position', 585) ('background', 560) ('height', 480) \n",
      "nytimes : ('id', 1558) ('typename', 1462) ('ImageRendition', 948) \n"
     ]
    }
   ],
   "source": [
    "# 문제 8-5\n",
    "import pickle\n",
    "t1={} \n",
    "t2={}\n",
    "t3={}\n",
    "t4={}\n",
    "t5={}\n",
    "def cmp_by_2(a):\n",
    "    return a[1]\n",
    "with open('cse.koreatech.ac.kr.words_frequency.pickle','rb')as f1:\n",
    "    t1=pickle.load(f1)\n",
    "with open('koreatech.ac.kr.words_frequency.pickle','rb')as f2:\n",
    "    t2=pickle.load(f2)    \n",
    "with open('www.naver.com.words_frequency.pickle','rb')as f3:\n",
    "    t3=pickle.load(f3)\n",
    "with open('www.daum.net.words_frequency.pickle','rb')as f4:\n",
    "    t4=pickle.load(f4)\n",
    "with open('www.nytimes.com.words_frequency.pickle','rb')as f5:\n",
    "    t5=pickle.load(f5)\n",
    "lista=[t1,t2,t3,t4,t5]\n",
    "list=['cse.koreatech','koreatech','naver','daum','nytimes']\n",
    "j=0\n",
    "for i in lista:\n",
    "    sorted_dict=sorted(i.items(),key=cmp_by_2)\n",
    "    print(list[j],end=\" : \")\n",
    "    j+=1\n",
    "    for i in range(1,4):\n",
    "        print(sorted_dict[-i],end=\" \")\n",
    "    print()    "
   ]
  },
  {
   "cell_type": "code",
   "execution_count": 16,
   "metadata": {},
   "outputs": [
    {
     "name": "stdout",
     "output_type": "stream",
     "text": [
      "스포츠\n",
      "스포츠\n",
      "검색어 스포츠 의 유사도:\n",
      "('naver', 15)\n",
      "('daum', 12)\n",
      "('nytimes', 0)\n",
      "('koreatech', 0)\n",
      "('cse.koreatech', 0)\n"
     ]
    }
   ],
   "source": [
    "#문제 8-6\n",
    "import pickle\n",
    "import codecs\n",
    "search=str(input())\n",
    "with codecs.open('Stopwords1.txt','r',\"utf-8\")as f:\n",
    "    s=f.readlines()\n",
    "    s=''.join(s)\n",
    "    s=s.split()\n",
    "    for i in s:\n",
    "        if(search==i):      \n",
    "            print(\"불용어로만 이루어져 있습니다.\")\n",
    "            break        \n",
    "\n",
    "with codecs.open('Stopwords2.txt','r',\"utf-8\")as f:\n",
    "    s=f.readlines()\n",
    "    s=''.join(s)\n",
    "    s=s.split()\n",
    "    for i in s:\n",
    "        if(search.find(i)!=-1):\n",
    "            if(search.endswith(i)==True):\n",
    "                search=search[:search.find(i)]\n",
    "                break\n",
    "            elif(search==i):\n",
    "                print(\"불용어로만 이루어져 있습니다.\")\n",
    "                break\n",
    "print(search)\n",
    "t1={} \n",
    "t2={}\n",
    "t3={}\n",
    "t4={}\n",
    "t5={}\n",
    "result=dict()\n",
    "get_value=[]\n",
    "count=0\n",
    "list=['cse.koreatech','koreatech','naver','daum','nytimes']\n",
    "def cmp_by_2(a):\n",
    "    return a[1]\n",
    "with open('cse.koreatech.ac.kr.words_frequency.pickle','rb')as f1:\n",
    "    t1=pickle.load(f1)\n",
    "with open('koreatech.ac.kr.words_frequency.pickle','rb')as f2:\n",
    "    t2=pickle.load(f2)    \n",
    "with open('www.naver.com.words_frequency.pickle','rb')as f3:\n",
    "    t3=pickle.load(f3)\n",
    "with open('www.daum.net.words_frequency.pickle','rb')as f4:\n",
    "    t4=pickle.load(f4)\n",
    "with open('www.nytimes.com.words_frequency.pickle','rb')as f5:\n",
    "    t5=pickle.load(f5)\n",
    "lista=[t1,t2,t3,t4,t5]\n",
    "for i in lista:\n",
    "    get_value.append(i.get(search,0)*3+i.get(search[:-1],0)*2+i.get(search[:-2],0))\n",
    "    result[list[count]]=i.get(search,0)*3+i.get(search[:-1],0)*2+i.get(search[:-2],0)\n",
    "    count+=1\n",
    "sorted_dict=sorted(result.items(),key=cmp_by_2)\n",
    "print('검색어 %s 의 유사도:'%(search))\n",
    "for i in range(1,6):\n",
    "    print(sorted_dict[-i])"
   ]
  },
  {
   "cell_type": "markdown",
   "metadata": {},
   "source": [
    "# 문제8   \n",
    "8번은 기존 과제3에서 했던것에서 불용어를 추가한다. 영어와 한글을 따로 텍스트로 만들어 먼저 영어를 비교해서 불용어가 있다면 제거해주고,\n",
    "한글은 부사등의 불용어와 단어에 있는 불용어단어를 구분하는 것을 하지 못했다. 그래서 부사들은 보통 단어에 끝에 붙기 때문에  \n",
    "불용어로 단어가 끝나는것들은 그 불용어들을 제거한 새로운 단어로 만들어줬다. 이때도 불용어와 단어가 같다면 제거했다. 하지만 이때 문제점은  끝이 불용어로 끝나지만 그게 그 단어자체인 경우는 따로 구분을 어떻게 해야할지 몰라 모두 제거할 수 밖에 없었다.   \n",
    "그다음 그것을 출현빈도에 따라 사전을 만들었다.   \n",
    "그다음 pickle모듈을 이용하여 복잡한 객체인 사전을 저장하고 그 파일에 저장하고, 그 파일을 불려들어 각 페이지마다   \n",
    "출현빈도 높은 3가지를 출력하였다. 출력빈도순으로 정렬하기위해 sort시 key값을 정해줘 값순으로 정렬을 시켜 가장 큰 값인 [-1]부터 출력해줌.  \n",
    "8-6은 일단 검색어를 받아 불용어가 존재하는지 확인을 거친 뒤, 불용어를 제거한뒤 그 단어가 내가 조사한 페이지 5개에 유사도에 따라 조사해 \n",
    "가장 유사도가 높은 페이지 순으로 출력하게 하였다. 이떄 유사도를 조사할때는 일단 단어와 같으면 5점씩 주고 끝에서 한글자씩 제거하여 그 단어가 그 페이지에 존재하는지에 따라 차등적으로 점수를 매겼다. 그래서 가장 점수가 높은 페이지 순에 따라 출력하였다.\n",
    "import codecs는 utf-8형태의 텍스트를 읽거나 쓰게 하기위해 사용하였다.\n"
   ]
  },
  {
   "cell_type": "code",
   "execution_count": null,
   "metadata": {},
   "outputs": [],
   "source": []
  }
 ],
 "metadata": {
  "kernelspec": {
   "display_name": "Python 3",
   "language": "python",
   "name": "python3"
  },
  "language_info": {
   "codemirror_mode": {
    "name": "ipython",
    "version": 3
   },
   "file_extension": ".py",
   "mimetype": "text/x-python",
   "name": "python",
   "nbconvert_exporter": "python",
   "pygments_lexer": "ipython3",
   "version": "3.7.0"
  }
 },
 "nbformat": 4,
 "nbformat_minor": 2
}
