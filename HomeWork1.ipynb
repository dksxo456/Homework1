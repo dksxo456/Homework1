{
 "cells": [
  {
   "cell_type": "code",
   "execution_count": 1,
   "metadata": {},
   "outputs": [
    {
     "name": "stdout",
     "output_type": "stream",
     "text": [
      "Python Hello\n"
     ]
    }
   ],
   "source": [
    "#문제1\n",
    "\n",
    "a=\"Hello Python\"\n",
    "a=a[6:12]+' '+a[0:5]  #Slicing을 이용하여 문자열을 원하는 부분을 나눠줌\n",
    "print(a)"
   ]
  },
  {
   "cell_type": "code",
   "execution_count": 2,
   "metadata": {},
   "outputs": [
    {
     "name": "stdout",
     "output_type": "stream",
     "text": [
      "World Python Hello\n"
     ]
    }
   ],
   "source": [
    "#문제2\n",
    "b=\"Hello Python World\"\n",
    "b=b[13:18]+b[5:12]+' '+b[:5] #Slicing을 이용하여 문자열을 나눠줌. [:5]와 같이 앞을 생략하면 0이라고 가정함.\n",
    "print(b)\n"
   ]
  },
  {
   "cell_type": "code",
   "execution_count": 3,
   "metadata": {},
   "outputs": [
    {
     "name": "stdout",
     "output_type": "stream",
     "text": [
      "olleH\n"
     ]
    }
   ],
   "source": [
    "#문제3\n",
    "c=\"Hello\"\n",
    "c=c[::-1] #[x:y:z]라 할때 x는 시작 범위 y는 끝나는 범위이고 z는 step을 뜻하므로 -1을 넣으면 반대로 입력됨. \n",
    "print(c)"
   ]
  },
  {
   "cell_type": "code",
   "execution_count": 4,
   "metadata": {},
   "outputs": [
    {
     "name": "stdout",
     "output_type": "stream",
     "text": [
      "p\n",
      "p\n",
      "p\n",
      "ytho\n",
      "\n"
     ]
    }
   ],
   "source": [
    "#문제4\n",
    "s=\"python\"\n",
    "print(s[0])\n",
    "print(s[0][0])\n",
    "print(s[0][0][0])\n",
    "#print(s[100])   에러\n",
    "#print(s[-100])   에러\n",
    "#print(s[-100, 100])에러\n",
    "print(s[1:-1])\n",
    "print(s[3:-3])"
   ]
  },
  {
   "cell_type": "markdown",
   "metadata": {},
   "source": [
    "A. \n",
    "s[0], s[0][0], s[0][0][0] 모두 p가 나왔는데 s는 배열이므로 s[0]은 당연히 p가 나오고 s[0][0],s[0][0][0]도 2차원 3차원 배열이지만 \n",
    "이 배열이 첫문자가p이므로 p가 나오는것 같다.\n",
    "\n",
    "B.\n",
    "s[-100]과 s[100]은 배열의 범위를 초과하기 떄문에 값이 에러가 뜨는 것 같다.\n",
    "\n",
    "C.\n",
    "배열의 위치 값을 꺼낼때 정수형으로만 꺼낼 수 있는데 [-100,100]은 정수형이 아니므로 에러가 뜨는 것 같다. \n",
    "\n",
    "D.\n",
    "Slicing을 이용하여 값을 꺼내는데 시작범위가 1이고 끝 범위가 -1인 [1,-1]의 값을 꺼내므로 1은 s[1]인 y이고 s[-1]은 뒤에서 첫번쨰인 n이다.\n",
    "끝범위인 n전까지의 값만 출력되므로 y에서 o까지인 ytho 값이 나온다.\n",
    "\n",
    "E.\n",
    "Slicing을 이용하여 시작값인s[3]은 h이고 끝범위인 s[-3]는 뒤에서 세번째인 h이다. 하지만 끝범위인 s[-3]을 포함하지 않으므로 값은  \n",
    "비어있는 ''이 나온다.\n"
   ]
  },
  {
   "cell_type": "code",
   "execution_count": 5,
   "metadata": {},
   "outputs": [
    {
     "name": "stdout",
     "output_type": "stream",
     "text": [
      "1\n",
      "3\n",
      "5\n",
      "7\n",
      "9\n",
      "11\n",
      "13\n",
      "15\n",
      "17\n",
      "19\n",
      "21\n",
      "23\n",
      "25\n",
      "27\n",
      "29\n",
      "31\n",
      "33\n",
      "35\n",
      "37\n",
      "39\n",
      "41\n",
      "43\n",
      "45\n",
      "47\n",
      "49\n",
      "51\n",
      "53\n",
      "55\n",
      "57\n",
      "59\n",
      "61\n",
      "63\n",
      "65\n",
      "67\n",
      "69\n",
      "71\n",
      "73\n",
      "75\n",
      "77\n",
      "79\n",
      "81\n",
      "83\n",
      "85\n",
      "87\n",
      "89\n",
      "91\n",
      "93\n",
      "95\n",
      "97\n",
      "99\n"
     ]
    }
   ],
   "source": [
    "#문제5\n",
    "for a in range(1,100,1):   #range(초기값,반복횟수,증가값)\n",
    "    if(a%2==1):\n",
    "        print(a)\n",
    "  "
   ]
  },
  {
   "cell_type": "code",
   "execution_count": 6,
   "metadata": {},
   "outputs": [
    {
     "name": "stdout",
     "output_type": "stream",
     "text": [
      "2550\n"
     ]
    }
   ],
   "source": [
    "#문제6\n",
    "a=1                          \n",
    "result=0               #result값을 초기화.\n",
    "while a<=100:          #a=1부터 100까지 반복함.\n",
    "    if(a%2==0):\n",
    "        result+=a      #a가 짝수일 경우 result에 더해감.\n",
    "    a+=1\n",
    "print(result)"
   ]
  },
  {
   "cell_type": "code",
   "execution_count": 7,
   "metadata": {},
   "outputs": [
    {
     "name": "stdout",
     "output_type": "stream",
     "text": [
      "임의의 정수를 입력하시오.9512\n",
      "2159\n"
     ]
    }
   ],
   "source": [
    "#문제7\n",
    "num=str(input(\"임의의 정수를 입력하시오.\"))  #역순으로 재정렬하기 쉽게 하기위해 자료형을str로 함.\n",
    "num=num[::-1]                                #[::-1]으로 역순으로 뒤집어줌.\n",
    "print(num)"
   ]
  },
  {
   "cell_type": "code",
   "execution_count": 8,
   "metadata": {
    "scrolled": true
   },
   "outputs": [
    {
     "name": "stdout",
     "output_type": "stream",
     "text": [
      "임의의 정수를 입력하시오.159\n",
      "2\n",
      "3\n",
      "5\n",
      "7\n",
      "11\n",
      "13\n",
      "17\n",
      "19\n",
      "23\n",
      "29\n",
      "31\n",
      "37\n",
      "41\n",
      "43\n",
      "47\n",
      "53\n",
      "59\n",
      "61\n",
      "67\n",
      "71\n",
      "73\n",
      "79\n",
      "83\n",
      "89\n",
      "97\n",
      "101\n",
      "103\n",
      "107\n",
      "109\n",
      "113\n",
      "127\n",
      "131\n",
      "137\n",
      "139\n",
      "149\n",
      "151\n",
      "157\n"
     ]
    }
   ],
   "source": [
    "#문제8\n",
    "import math\n",
    "n=int(input(\"임의의 정수를 입력하시오.\")) \n",
    "count=0\n",
    "for i in range(2,n+1):                #2~n까지 i를 반복\n",
    "    for j in range(2,int(math.sqrt(i))+1):  #i가 sqrt(i)이하의 정수들과 나눠지지 않으면 소수이므로 count를 세서 count가 증가하지않으면 소수\n",
    "        if(i%j==0):\n",
    "            count+=1\n",
    "    if(count==0): \n",
    "        print(i)\n",
    "    count=0"
   ]
  },
  {
   "cell_type": "code",
   "execution_count": 9,
   "metadata": {
    "scrolled": true
   },
   "outputs": [
    {
     "name": "stdout",
     "output_type": "stream",
     "text": [
      "5\n",
      "*****\n",
      " ****\n",
      "  ***\n",
      "   **\n",
      "    *\n"
     ]
    }
   ],
   "source": [
    "#문제9\n",
    "n=int(input())            #원하는 값을 입력받음\n",
    "for i in range(n):      \n",
    "    for j in range(i):  \n",
    "        print(' ', end='')#처음 공백을주는데 점점 공백칸을 늘림\n",
    "    for k in range(i,n):\n",
    "        if(k==n-1):\n",
    "            print('*')    #*을 점점 줄임. k가 마지막칸이 되면 줄 이동을 해줌.\n",
    "        else:\n",
    "            print('*', end='')    # 평상시는 줄이동을 하지 않기 위해 end를 이용함."
   ]
  },
  {
   "cell_type": "markdown",
   "metadata": {},
   "source": [
    "![](https://github.com/dksxo456/Homework1/blob/master/%EB%AC%B8%EC%A0%9C9.PNG?raw=true)"
   ]
  },
  {
   "cell_type": "code",
   "execution_count": 10,
   "metadata": {},
   "outputs": [
    {
     "name": "stdout",
     "output_type": "stream",
     "text": [
      "HelloMyNameisYoungGoodbye\n",
      "HelloMyNam\n",
      "eisYoungGo\n",
      "odbye\n"
     ]
    }
   ],
   "source": [
    "#문제10\n",
    "Word=str(input())          #문자열로 입력받음.\n",
    "while(len(Word)>10):       # 문자열의길이가 10보다 길경우 먼저 [:10]을 출력하고 Word를  출력한 만큼 줄여준다.\n",
    "    print(Word[:10])\n",
    "    Word=Word[10:]\n",
    "print(Word)                 #문자열의 길이가 10보다 작을 경우 그대로 출력해줌."
   ]
  },
  {
   "cell_type": "markdown",
   "metadata": {},
   "source": [
    "![](https://github.com/dksxo456/Homework1/blob/master/%EB%AC%B8%EC%A0%9C10.PNG?raw=true)"
   ]
  },
  {
   "cell_type": "code",
   "execution_count": 11,
   "metadata": {},
   "outputs": [
    {
     "name": "stdout",
     "output_type": "stream",
     "text": [
      "16\n",
      "4\n"
     ]
    }
   ],
   "source": [
    "#문제11\n",
    "Sugar=int(input())                 #설탕값을 입력받음\n",
    "count1=0                           #5kg주머니\n",
    "count2=0                           #3kg주머니\n",
    "for i in range(int(Sugar/5),0,-1): #주머니를 최대한 줄이기 위해 반복을 역순으로 해 5kg주머니가 많을때 조건에 맞으면 빠져 나오게 함.\n",
    "    if((Sugar-i*5)%3==0):\n",
    "        count1=i\n",
    "        count2=int((Sugar-i*5)/3)\n",
    "        print(count1+count2)\n",
    "        break\n",
    "if(count1==0):                     #위의 반복 조건과 맞지않으면 오직 3kg주머니가 존재할 경우를 따짐.\n",
    "    if(Sugar%3==0):        \n",
    "        print(int(Sugar/3))\n",
    "    else:                          #모두 만족하지 않을 경우 -1출력  \n",
    "        print(-1)"
   ]
  },
  {
   "cell_type": "markdown",
   "metadata": {},
   "source": [
    "![](https://github.com/dksxo456/Homework1/blob/master/%EB%AC%B8%EC%A0%9C11.PNG?raw=true)"
   ]
  }
 ],
 "metadata": {
  "kernelspec": {
   "display_name": "Python 3",
   "language": "python",
   "name": "python3"
  },
  "language_info": {
   "codemirror_mode": {
    "name": "ipython",
    "version": 3
   },
   "file_extension": ".py",
   "mimetype": "text/x-python",
   "name": "python",
   "nbconvert_exporter": "python",
   "pygments_lexer": "ipython3",
   "version": "3.6.5"
  }
 },
 "nbformat": 4,
 "nbformat_minor": 2
}
