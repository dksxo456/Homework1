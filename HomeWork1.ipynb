{
 "cells": [
  {
   "cell_type": "code",
   "execution_count": null,
   "metadata": {},
   "outputs": [],
   "source": [
    "#문제1\n",
    "\n",
    "a=\"Hello Python\"\n",
    "a=a[6:12]+' '+a[0:5]  #Slicing을 이용하여 문자열을 원하는 부분을 나눠줌\n",
    "print(a)"
   ]
  },
  {
   "cell_type": "code",
   "execution_count": null,
   "metadata": {},
   "outputs": [],
   "source": [
    "#문제2\n",
    "b=\"Hello Python World\"\n",
    "b=b[13:18]+b[5:12]+' '+b[:5] #Slicing을 이용하여 문자열을 나눠줌. [:5]와 같이 앞을 생략하면 0이라고 가정함.\n",
    "print(b)\n"
   ]
  },
  {
   "cell_type": "code",
   "execution_count": null,
   "metadata": {},
   "outputs": [],
   "source": [
    "#문제3\n",
    "c=\"Hello\"\n",
    "c=c[::-1] #[x:y:z]라 할때 x는 시작 범위 y는 끝나는 범위이고 z는 step을 뜻하므로 -1을 넣으면 반대로 입력됨. \n",
    "print(c)"
   ]
  },
  {
   "cell_type": "code",
   "execution_count": null,
   "metadata": {},
   "outputs": [],
   "source": [
    "#문제4\n",
    "s=\"python\"\n",
    "print(s[0])\n",
    "print(s[0][0])\n",
    "print(s[0][0][0])\n",
    "#print(s[100])   에러\n",
    "#print(s[-100])   에러\n",
    "#print(s[-100, 100])에러\n",
    "print(s[1:-1])\n",
    "print(s[3:-3])"
   ]
  },
  {
   "cell_type": "markdown",
   "metadata": {},
   "source": [
    "A. \n",
    "s[0], s[0][0], s[0][0][0] 모두 p가 나왔는데 s는 배열이므로 s[0]은 당연히 p가 나오고 s[0][0],s[0][0][0]도 2차원 3차원 배열이지만 \n",
    "이 배열이 첫문자가p이므로 p가 나오는것 같다.\n",
    "\n",
    "B.\n",
    "s[-100]과 s[100]은 배열의 범위를 초과하기 떄문에 값이 에러가 뜨는 것 같다.\n",
    "\n",
    "C.\n",
    "배열의 위치 값을 꺼낼때 정수형으로만 꺼낼 수 있는데 [-100,100]은 정수형이 아니므로 에러가 뜨는 것 같다. \n",
    "\n",
    "D.\n",
    "Slicing을 이용하여 값을 꺼내는데 시작범위가 1이고 끝 범위가 -1인 [1,-1]의 값을 꺼내므로 1은 s[1]인 y이고 s[-1]은 뒤에서 첫번쨰인 n이다.\n",
    "끝범위인 n전까지의 값만 출력되므로 y에서 o까지인 ytho 값이 나온다.\n",
    "\n",
    "E.\n",
    "Slicing을 이용하여 시작값인s[3]은 h이고 끝범위인 s[-3]는 뒤에서 세번째인 h이다. 하지만 끝범위인 s[-3]을 포함하지 않으므로 값은  \n",
    "비어있는 ''이 나온다.\n"
   ]
  },
  {
   "cell_type": "code",
   "execution_count": null,
   "metadata": {},
   "outputs": [],
   "source": [
    "#문제5\n",
    "for a in range(1,100,1):   #range(초기값,반복횟수,증가값)\n",
    "    if(a%2==1):\n",
    "        print(a)\n",
    "  "
   ]
  },
  {
   "cell_type": "code",
   "execution_count": null,
   "metadata": {},
   "outputs": [],
   "source": [
    "#문제6\n",
    "a=1                          \n",
    "result=0               #result값을 초기화.\n",
    "while a<=100:          #a=1부터 100까지 반복함.\n",
    "    if(a%2==0):\n",
    "        result+=a      #a가 짝수일 경우 result에 더해감.\n",
    "    a+=1\n",
    "print(result)"
   ]
  },
  {
   "cell_type": "code",
   "execution_count": 62,
   "metadata": {},
   "outputs": [
    {
     "name": "stdout",
     "output_type": "stream",
     "text": [
      "임의의 정수를 입력하시오.468486\n",
      "684864\n"
     ]
    }
   ],
   "source": [
    "#문제7\n",
    "num=str(input(\"임의의 정수를 입력하시오.\"))  #역순으로 재정렬하기 쉽게 하기위해 자료형을str로 함.\n",
    "num=num[::-1]                                #[::-1]으로 역순으로 뒤집어줌.\n",
    "print(num)"
   ]
  },
  {
   "cell_type": "code",
   "execution_count": 63,
   "metadata": {
    "scrolled": true
   },
   "outputs": [
    {
     "name": "stdout",
     "output_type": "stream",
     "text": [
      "임의의 정수를 입력하시오.1235\n",
      "2\n",
      "3\n",
      "5\n",
      "7\n",
      "11\n",
      "13\n",
      "17\n",
      "19\n",
      "23\n",
      "29\n",
      "31\n",
      "37\n",
      "41\n",
      "43\n",
      "47\n",
      "53\n",
      "59\n",
      "61\n",
      "67\n",
      "71\n",
      "73\n",
      "79\n",
      "83\n",
      "89\n",
      "97\n",
      "101\n",
      "103\n",
      "107\n",
      "109\n",
      "113\n",
      "127\n",
      "131\n",
      "137\n",
      "139\n",
      "149\n",
      "151\n",
      "157\n",
      "163\n",
      "167\n",
      "173\n",
      "179\n",
      "181\n",
      "191\n",
      "193\n",
      "197\n",
      "199\n",
      "211\n",
      "223\n",
      "227\n",
      "229\n",
      "233\n",
      "239\n",
      "241\n",
      "251\n",
      "257\n",
      "263\n",
      "269\n",
      "271\n",
      "277\n",
      "281\n",
      "283\n",
      "293\n",
      "307\n",
      "311\n",
      "313\n",
      "317\n",
      "331\n",
      "337\n",
      "347\n",
      "349\n",
      "353\n",
      "359\n",
      "367\n",
      "373\n",
      "379\n",
      "383\n",
      "389\n",
      "397\n",
      "401\n",
      "409\n",
      "419\n",
      "421\n",
      "431\n",
      "433\n",
      "439\n",
      "443\n",
      "449\n",
      "457\n",
      "461\n",
      "463\n",
      "467\n",
      "479\n",
      "487\n",
      "491\n",
      "499\n",
      "503\n",
      "509\n",
      "521\n",
      "523\n",
      "541\n",
      "547\n",
      "557\n",
      "563\n",
      "569\n",
      "571\n",
      "577\n",
      "587\n",
      "593\n",
      "599\n",
      "601\n",
      "607\n",
      "613\n",
      "617\n",
      "619\n",
      "631\n",
      "641\n",
      "643\n",
      "647\n",
      "653\n",
      "659\n",
      "661\n",
      "673\n",
      "677\n",
      "683\n",
      "691\n",
      "701\n",
      "709\n",
      "719\n",
      "727\n",
      "733\n",
      "739\n",
      "743\n",
      "751\n",
      "757\n",
      "761\n",
      "769\n",
      "773\n",
      "787\n",
      "797\n",
      "809\n",
      "811\n",
      "821\n",
      "823\n",
      "827\n",
      "829\n",
      "839\n",
      "853\n",
      "857\n",
      "859\n",
      "863\n",
      "877\n",
      "881\n",
      "883\n",
      "887\n",
      "907\n",
      "911\n",
      "919\n",
      "929\n",
      "937\n",
      "941\n",
      "947\n",
      "953\n",
      "967\n",
      "971\n",
      "977\n",
      "983\n",
      "991\n",
      "997\n",
      "1009\n",
      "1013\n",
      "1019\n",
      "1021\n",
      "1031\n",
      "1033\n",
      "1039\n",
      "1049\n",
      "1051\n",
      "1061\n",
      "1063\n",
      "1069\n",
      "1087\n",
      "1091\n",
      "1093\n",
      "1097\n",
      "1103\n",
      "1109\n",
      "1117\n",
      "1123\n",
      "1129\n",
      "1151\n",
      "1153\n",
      "1163\n",
      "1171\n",
      "1181\n",
      "1187\n",
      "1193\n",
      "1201\n",
      "1213\n",
      "1217\n",
      "1223\n",
      "1229\n",
      "1231\n"
     ]
    }
   ],
   "source": [
    "#문제8\n",
    "import math\n",
    "n=int(input(\"임의의 정수를 입력하시오.\")) \n",
    "count=0\n",
    "for i in range(2,n+1):                #2~n까지 i를 반복\n",
    "    for j in range(2,int(math.sqrt(i))+1):  #i가 sqrt(i)이하의 정수들과 나눠지지 않으면 소수이므로 count를 세서 count가 증가하지않으면 소수\n",
    "        if(i%j==0):\n",
    "            count+=1\n",
    "    if(count==0): \n",
    "        print(i)\n",
    "    count=0"
   ]
  },
  {
   "cell_type": "code",
   "execution_count": null,
   "metadata": {
    "scrolled": true
   },
   "outputs": [],
   "source": [
    "#문제9\n",
    "n=int(input())            #원하는 값을 입력받음\n",
    "for i in range(n):      \n",
    "    for j in range(i):  \n",
    "        print(' ', end='')#처음 공백을주는데 점점 공백칸을 늘림\n",
    "    for k in range(i,n):\n",
    "        if(k==n-1):\n",
    "            print('*')    #*을 점점 줄임. k가 마지막칸이 되면 줄 이동을 해줌.\n",
    "        else:\n",
    "            print('*', end='')    # 평상시는 줄이동을 하지 않기 위해 end를 이용함."
   ]
  },
  {
   "cell_type": "markdown",
   "metadata": {},
   "source": [
    "![](https://github.com/dksxo456/Homework1/blob/master/%EB%AC%B8%EC%A0%9C9.PNG?raw=true)"
   ]
  },
  {
   "cell_type": "code",
   "execution_count": 1,
   "metadata": {},
   "outputs": [
    {
     "name": "stdout",
     "output_type": "stream",
     "text": [
      "fosdaowoqadwqa\n",
      "fosdaowoqa\n",
      "dwqa\n"
     ]
    }
   ],
   "source": [
    "#문제10\n",
    "Word=str(input())          #문자열로 입력받음.\n",
    "while(len(Word)>10):       # 문자열의길이가 10보다 길경우 먼저 [:10]을 출력하고 Word를  출력한 만큼 줄여준다.\n",
    "    print(Word[:10])\n",
    "    Word=Word[10:]\n",
    "print(Word)                 #문자열의 길이가 10보다 작을 경우 그대로 출력해줌."
   ]
  },
  {
   "cell_type": "markdown",
   "metadata": {},
   "source": [
    "![](https://github.com/dksxo456/Homework1/blob/master/%EB%AC%B8%EC%A0%9C10.PNG?raw=true)"
   ]
  },
  {
   "cell_type": "code",
   "execution_count": 58,
   "metadata": {},
   "outputs": [
    {
     "name": "stdout",
     "output_type": "stream",
     "text": [
      "5003\n",
      "1001\n"
     ]
    }
   ],
   "source": [
    "#문제11\n",
    "Sugar=int(input())                 #설탕값을 입력받음\n",
    "count1=0                           #5kg주머니\n",
    "count2=0                           #3kg주머니\n",
    "for i in range(int(Sugar/5),0,-1): #주머니를 최대한 줄이기 위해 반복을 역순으로 해 5kg주머니가 많을때 조건에 맞으면 빠져 나오게 함.\n",
    "    if((Sugar-i*5)%3==0):\n",
    "        count1=i\n",
    "        count2=int((Sugar-i*5)/3)\n",
    "        print(count1+count2)\n",
    "        break\n",
    "if(count1==0):                     #위의 반복 조건과 맞지않으면 오직 3kg주머니가 존재할 경우를 따짐.\n",
    "    if(Sugar%3==0):        \n",
    "        print(int(Sugar/3))\n",
    "    else:                          #모두 만족하지 않을 경우 -1출력  \n",
    "        print(-1)"
   ]
  },
  {
   "cell_type": "markdown",
   "metadata": {},
   "source": [
    "![](https://github.com/dksxo456/Homework1/blob/master/%EB%AC%B8%EC%A0%9C11.PNG?raw=true)"
   ]
  }
 ],
 "metadata": {
  "kernelspec": {
   "display_name": "Python 3",
   "language": "python",
   "name": "python3"
  },
  "language_info": {
   "codemirror_mode": {
    "name": "ipython",
    "version": 3
   },
   "file_extension": ".py",
   "mimetype": "text/x-python",
   "name": "python",
   "nbconvert_exporter": "python",
   "pygments_lexer": "ipython3",
   "version": "3.6.5"
  }
 },
 "nbformat": 4,
 "nbformat_minor": 2
}
