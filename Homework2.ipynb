{
 "cells": [
  {
   "cell_type": "code",
   "execution_count": 2,
   "metadata": {},
   "outputs": [
    {
     "name": "stdout",
     "output_type": "stream",
     "text": [
      "4\n",
      "1\n",
      "2\n",
      "2\n",
      "1\n",
      "3\n"
     ]
    }
   ],
   "source": [
    "#문제1\n",
    "print(1 and 2 and 3 and 4)   \n",
    "print(1 or 2 or 3 or 4)     \n",
    "print(1 and 2 or 3 and 4)  \n",
    "print((1 and 2) or (3 and 4)) \n",
    "print(1 or 2 and 3 or 4)   \n",
    "print((1 or 2) and (3 or 4)) "
   ]
  },
  {
   "cell_type": "markdown",
   "metadata": {},
   "source": [
    "and는 값이 모두 참인지 먼저 확인을 한 뒤, 모두 참일 경우 가장 뒤에 값을 결과값이 되고,\n",
    "\n",
    "or은 값 중에 참이 하나라도 있으면 참 값이 나오고 참값중 가장 앞에 있는 값이 결과값이 된다.\n",
    "    \n",
    "1 and 2 and 3 and 4은 모두 참이므로 가장 뒤에 값인 4가 결과값이 된다.\n",
    "\n",
    "1 or 2 or 3 or 4은  참값이 존재하고 가장 앞에있는 값인 1이 결과값이 된다.\n",
    "\n",
    "1 and 2 or 3 and 4은 and와 or이 같이 존재할땐 or이 우선으로 or값 중에 앞에 값인 2가 결과값이 된다.\n",
    "\n",
    "(1 and 2) or (3 and 4)은 괄호안에 든 것을 우선으로 계산한다. 계산하면 2 or 4가 되고 그중 앞에 값인 2가 결과값이 된다.\n",
    "\n",
    "1 or 2 and 3 or 4 은 or은 우선으로 치고 가장 앞에 있는 1을 결과값으로 한다.\n",
    "\n",
    "(1 or 2) and (3 or 4) 괄호안에 있는 것을 먼저 계산하면 1 and 3이 되고 그중 뒤에값인 3이 결과값이 된다.\n"
   ]
  },
  {
   "cell_type": "code",
   "execution_count": 3,
   "metadata": {},
   "outputs": [
    {
     "name": "stdout",
     "output_type": "stream",
     "text": [
      "['/usr/local/bin', 'python']\n",
      "['/home/chulsoo', 'test.txt']\n"
     ]
    }
   ],
   "source": [
    "#문제2\n",
    "def  div_path(s):\n",
    "    a=s.split('/')\n",
    "    b=''         \n",
    "    for i in range(len(a)-1):       \n",
    "        if(i==len(a)-2):\n",
    "            b+=a[i]\n",
    "        else:\n",
    "            b+=a[i] +'/'\n",
    "                 \n",
    "    c=[0]\n",
    "    c[0]=b\n",
    "    c.append(a[len(a)-1])\n",
    "    print(c)\n",
    "div_path('/usr/local/bin/python')\n",
    "div_path('/home/chulsoo/test.txt')    "
   ]
  },
  {
   "cell_type": "markdown",
   "metadata": {},
   "source": [
    "먼저 주어진 문자열을 split을 이용해 /단위로 나눠준다.\n",
    "그다음 문자열 b를 만들어 /단위로 나눠어진 리스트중 마지막 값을 제외한 모든 값을 더해주면서 따로 '/'를 더해주고 마지막 값을 더할땐 /가 필요없으므로 if를 사용해 나누어줌.\n",
    "리스트 c를 생성해 c[0]에는 만들어둔 b를 넣고 append를 이용해 split으로 분리한 a[len(a)-1]을 넣어준다"
   ]
  },
  {
   "cell_type": "code",
   "execution_count": 4,
   "metadata": {
    "scrolled": true
   },
   "outputs": [
    {
     "name": "stdout",
     "output_type": "stream",
     "text": [
      "[1, 2, 3, 4]\n",
      "[-10, -5, -1, 0, 9, 100]\n",
      "[0, 1, 2]\n"
     ]
    }
   ],
   "source": [
    "#문제3\n",
    "def list_union(lista, listb):\n",
    "    for i in range(len(listb)):\n",
    "        if(listb[i] not in lista):\n",
    "            lista.append(listb[i])   #중복제거\n",
    "    for i in  range(len(lista)):\n",
    "        for j in  range(len(lista)-1):\n",
    "            if(lista[j]>lista[j+1]):\n",
    "                tmp=lista[j]\n",
    "                lista[j]=lista[j+1]\n",
    "                lista[j+1]=tmp       #모든 원소 정렬 \n",
    "    print(lista)  \n",
    "list_union([1, 2, 3], [1, 2, 4])\n",
    "list_union([-10, -5, 0, -1], [100, 9, 0, 9])\n",
    "list_union([0, 1, 2], [0, 1, 2])"
   ]
  },
  {
   "cell_type": "markdown",
   "metadata": {},
   "source": [
    "우선 두 리스트중 중복되는 부분을 제거해야하므로 반복문을 이용해 listb의 원소값중 lista의 값과 일치하지 않는 값만 lista에 append를 이용해 추가해준다.\n",
    "그러면 중복제거는 해결이 되었고 정렬은 모두 크기에 맞게 정렬을 해야하므로 이중 반복을 이용해 리스트안에 값을 한칸씩 비교하면서 정렬을 해내갔다."
   ]
  },
  {
   "cell_type": "code",
   "execution_count": 14,
   "metadata": {},
   "outputs": [
    {
     "name": "stdout",
     "output_type": "stream",
     "text": [
      "baekjoon\n",
      "1 0 -1 -1 2 -1 -1 -1 -1 4 3 -1 -1 7 5 -1 -1 -1 -1 -1 -1 -1 -1 -1 -1 -1 \n"
     ]
    }
   ],
   "source": [
    "#문제4\n",
    "s=str(input())\n",
    "ans=''\n",
    "for i in 'abcdefghijklmnopqrstuvwxyz':\n",
    "    if(i in s):\n",
    "        ans+=str(s.find(i))+' '\n",
    "    else:\n",
    "        ans+='-1'+' '\n",
    "print(ans)        "
   ]
  },
  {
   "cell_type": "markdown",
   "metadata": {},
   "source": [
    "문자열로 입력을 받고 알파벳과 비교를 해야하므로 반복문을 알파벳으로 반복한다.알파벳중 s에 들어가는 알파벳이 있으면 그 단어의 위치를 find함수를 찾아서 추가하고 없을 시에는 -1을 값을 넣어줬다.\n"
   ]
  },
  {
   "cell_type": "markdown",
   "metadata": {},
   "source": [
    "![](https://github.com/dksxo456/Homework1/blob/master/homework2_1.PNG?raw=true)"
   ]
  },
  {
   "cell_type": "code",
   "execution_count": 6,
   "metadata": {},
   "outputs": [
    {
     "name": "stdout",
     "output_type": "stream",
     "text": [
      "2\n",
      "3 ABC\n",
      "5 /HTP\n",
      "AAABBBCCC\n",
      "/////HHHHHTTTTTPPPPP\n"
     ]
    }
   ],
   "source": [
    "#문제5 \n",
    "T=int(input())\n",
    "t=[]\n",
    "for i in range(2000):\n",
    "    t.append(0)                   #임의의 리스트 t의 길이를 2000까지 만들어줌.  1<=T<=1000을 만족하기 위해\n",
    "for i in range(0,T*2,2):\n",
    "    t[i],t[i+1]=input().split()\n",
    "\n",
    "for i in range(0,T*2,2):\n",
    "    ans=''\n",
    "    for j in range(len(t[i+1])):\n",
    "        for k in range(int(t[i])):  #t[i]은 반복횟수 \n",
    "            ans+=t[i+1][j:j+1]  #이떄 t[i+1]은 문자열이고, [j:j+1]로 한문자를 반복횟수만큼 반복함.\n",
    "    print(ans)                  "
   ]
  },
  {
   "cell_type": "markdown",
   "metadata": {},
   "source": [
    "먼저 테스트 케이스의 갯수T를 먼저 받는다. 그리고 임의의 리스트 t를만들어 길이를 2000까지 늘려주고 반복횟수와 문자열을 받는다.\n",
    "짝수와 홀수를 세트로 받아서 짝수에는 반복횟수를 받고, 홀수에는 문자열을 받는다.\n",
    "그다음, 케이스의 갯수만큼 반복문을 만들고 문자열을 반복횟수만큼 반복시킨다."
   ]
  },
  {
   "cell_type": "markdown",
   "metadata": {},
   "source": [
    "![](https://github.com/dksxo456/Homework1/blob/master/homework2_2.PNG?raw=true)"
   ]
  },
  {
   "cell_type": "code",
   "execution_count": 12,
   "metadata": {},
   "outputs": [
    {
     "name": "stdout",
     "output_type": "stream",
     "text": [
      "504\n"
     ]
    }
   ],
   "source": [
    "#문제6\n",
    "import requests\n",
    "\n",
    "\n",
    "req = requests.get('http://cse.koreatech.ac.kr')\n",
    "\n",
    "source = req.text\n",
    "\n",
    "while source.find('<')!= -1:\n",
    "        source=source[:source.find('<')]+source[source.find('>', source.find('<'))+1:]\n",
    "\n",
    "print(len(source.split()))"
   ]
  },
  {
   "cell_type": "markdown",
   "metadata": {},
   "source": [
    "source라는 매우 큰 문자열을 <>안에 있는 문자열을 다 지우기 위해서 먼저 '<'가 없어질 때 까지 while문을 돌린다.\n",
    "그리고 문자열sourece에서[0]부터 '<'찾기 전까지를 더하고 '>'+1부터 문자열의 끝까지 식을 이용해 한번 while문이 돌 때 마다 \n",
    "'<   >' 로 이루어진 문자열을 제거해나간다.\n",
    "더이상 '<'을 찾지못하면 문자열 source를 공백문자로 구분해 그 단어의 갯수를 출력해준다. "
   ]
  },
  {
   "cell_type": "markdown",
   "metadata": {},
   "source": [
    "소감: 수업을 인터넷 강의로 듣고 그내용을 다시 수업 때 배워서 내용을 복습할 수 있어서 더 잘 이해되고 머릿속에 잘 기억이 되는 것 같다.\n",
    "요번 숙제를 보면 처음에는 어떻게 해야 할 지 감이 잡히지 않았는데 생각해보면서 차근차근 하다보니 어느 순간 이해가 되서 문제를 풀어나갈 수 있었다."
   ]
  }
 ],
 "metadata": {
  "kernelspec": {
   "display_name": "Python 3",
   "language": "python",
   "name": "python3"
  },
  "language_info": {
   "codemirror_mode": {
    "name": "ipython",
    "version": 3
   },
   "file_extension": ".py",
   "mimetype": "text/x-python",
   "name": "python",
   "nbconvert_exporter": "python",
   "pygments_lexer": "ipython3",
   "version": "3.7.0"
  }
 },
 "nbformat": 4,
 "nbformat_minor": 2
}
